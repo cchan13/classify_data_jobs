{
  "nbformat": 4,
  "nbformat_minor": 0,
  "metadata": {
    "colab": {
      "name": "Classify_Jobs_EDA.ipynb",
      "provenance": [],
      "collapsed_sections": []
    },
    "kernelspec": {
      "display_name": "Python 3",
      "language": "python",
      "name": "python3"
    },
    "language_info": {
      "codemirror_mode": {
        "name": "ipython",
        "version": 3
      },
      "file_extension": ".py",
      "mimetype": "text/x-python",
      "name": "python",
      "nbconvert_exporter": "python",
      "pygments_lexer": "ipython3",
      "version": "3.6.12"
    }
  },
  "cells": [
    {
      "cell_type": "markdown",
      "metadata": {
        "id": "8KUDtZ-PVvzo"
      },
      "source": [
        "## Classifying Data Jobs"
      ]
    },
    {
      "cell_type": "markdown",
      "metadata": {
        "id": "A4YiUQ0RV0bV"
      },
      "source": [
        "Team: Charis Chan, Joyce Ching, Inderpal Kaur"
      ]
    },
    {
      "cell_type": "code",
      "metadata": {
        "colab": {
          "base_uri": "https://localhost:8080/"
        },
        "id": "0sizM_FqVIHw",
        "outputId": "5be959ef-06d8-44d7-df08-0701f7c4f7b4"
      },
      "source": [
        "import pandas as pd\n",
        "import numpy as np\n",
        "import re\n",
        "import folium\n",
        "import seaborn as sns\n",
        "import matplotlib.pyplot as plt\n",
        "from geopy.geocoders import Nominatim\n",
        "import nltk\n",
        "nltk.download('punkt')\n",
        "nltk.download('stopwords')\n",
        "nltk.download('wordnet')\n",
        "from nltk.tokenize import word_tokenize\n",
        "from nltk.corpus import stopwords\n",
        "from nltk.stem import WordNetLemmatizer"
      ],
      "execution_count": 70,
      "outputs": [
        {
          "output_type": "stream",
          "text": [
            "[nltk_data] Downloading package punkt to /root/nltk_data...\n",
            "[nltk_data]   Package punkt is already up-to-date!\n",
            "[nltk_data] Downloading package stopwords to /root/nltk_data...\n",
            "[nltk_data]   Package stopwords is already up-to-date!\n",
            "[nltk_data] Downloading package wordnet to /root/nltk_data...\n",
            "[nltk_data]   Package wordnet is already up-to-date!\n"
          ],
          "name": "stdout"
        }
      ]
    },
    {
      "cell_type": "markdown",
      "metadata": {
        "id": "lM6fx8atuG0e"
      },
      "source": [
        "# About the Data\n",
        "- scraped from Glassdoor job postings Jun. 2020\n",
        "(https://github.com/picklesueat/data_jobs_data)\n",
        "- searched by keyword 'Data Scientist', 'Data Analyst', 'Data Engineer'"
      ]
    },
    {
      "cell_type": "code",
      "metadata": {
        "colab": {
          "base_uri": "https://localhost:8080/"
        },
        "id": "J8cG4fmvXkx7",
        "outputId": "d6593abd-6f3a-417b-b0a8-9cbb2ae5ad21"
      },
      "source": [
        "!wget https://raw.githubusercontent.com/picklesueat/data_jobs_data/master/DataScientist.csv\n",
        "!wget https://raw.githubusercontent.com/picklesueat/data_jobs_data/master/DataAnalyst.csv\n",
        "!wget https://raw.githubusercontent.com/picklesueat/data_jobs_data/master/DataEngineer.csv"
      ],
      "execution_count": 71,
      "outputs": [
        {
          "output_type": "stream",
          "text": [
            "--2020-12-08 04:44:55--  https://raw.githubusercontent.com/picklesueat/data_jobs_data/master/DataScientist.csv\n",
            "Resolving raw.githubusercontent.com (raw.githubusercontent.com)... 151.101.0.133, 151.101.64.133, 151.101.128.133, ...\n",
            "Connecting to raw.githubusercontent.com (raw.githubusercontent.com)|151.101.0.133|:443... connected.\n",
            "HTTP request sent, awaiting response... 200 OK\n",
            "Length: 14957616 (14M) [text/plain]\n",
            "Saving to: ‘DataScientist.csv.2’\n",
            "\n",
            "DataScientist.csv.2 100%[===================>]  14.26M  69.8MB/s    in 0.2s    \n",
            "\n",
            "2020-12-08 04:44:55 (69.8 MB/s) - ‘DataScientist.csv.2’ saved [14957616/14957616]\n",
            "\n",
            "--2020-12-08 04:44:55--  https://raw.githubusercontent.com/picklesueat/data_jobs_data/master/DataAnalyst.csv\n",
            "Resolving raw.githubusercontent.com (raw.githubusercontent.com)... 151.101.0.133, 151.101.64.133, 151.101.128.133, ...\n",
            "Connecting to raw.githubusercontent.com (raw.githubusercontent.com)|151.101.0.133|:443... connected.\n",
            "HTTP request sent, awaiting response... 200 OK\n",
            "Length: 19546357 (19M) [text/plain]\n",
            "Saving to: ‘DataAnalyst.csv.2’\n",
            "\n",
            "DataAnalyst.csv.2   100%[===================>]  18.64M  74.1MB/s    in 0.3s    \n",
            "\n",
            "2020-12-08 04:44:56 (74.1 MB/s) - ‘DataAnalyst.csv.2’ saved [19546357/19546357]\n",
            "\n",
            "--2020-12-08 04:44:56--  https://raw.githubusercontent.com/picklesueat/data_jobs_data/master/DataEngineer.csv\n",
            "Resolving raw.githubusercontent.com (raw.githubusercontent.com)... 151.101.0.133, 151.101.64.133, 151.101.128.133, ...\n",
            "Connecting to raw.githubusercontent.com (raw.githubusercontent.com)|151.101.0.133|:443... connected.\n",
            "HTTP request sent, awaiting response... 200 OK\n",
            "Length: 9113569 (8.7M) [text/plain]\n",
            "Saving to: ‘DataEngineer.csv.2’\n",
            "\n",
            "DataEngineer.csv.2  100%[===================>]   8.69M  35.4MB/s    in 0.2s    \n",
            "\n",
            "2020-12-08 04:44:57 (35.4 MB/s) - ‘DataEngineer.csv.2’ saved [9113569/9113569]\n",
            "\n"
          ],
          "name": "stdout"
        }
      ]
    },
    {
      "cell_type": "code",
      "metadata": {
        "id": "0niGL4_OWPCQ"
      },
      "source": [
        "scientist = pd.read_csv('DataScientist.csv').drop(columns=['Unnamed: 0', 'index'])\n",
        "analyst = pd.read_csv('DataAnalyst.csv')\n",
        "engineer = pd.read_csv('DataEngineer.csv')"
      ],
      "execution_count": 72,
      "outputs": []
    },
    {
      "cell_type": "code",
      "metadata": {
        "id": "6cH5iVe0aV5v"
      },
      "source": [
        "scientist['Label'] = 'Data Scientist'\n",
        "analyst['Label'] = 'Data Analyst'\n",
        "engineer['Label'] = 'Data Engineer'"
      ],
      "execution_count": 73,
      "outputs": []
    },
    {
      "cell_type": "code",
      "metadata": {
        "colab": {
          "base_uri": "https://localhost:8080/"
        },
        "id": "AaDWRUsv-ACp",
        "outputId": "abd0c010-844f-4246-8a77-aad2ffeed639"
      },
      "source": [
        "scientist.shape"
      ],
      "execution_count": 74,
      "outputs": [
        {
          "output_type": "execute_result",
          "data": {
            "text/plain": [
              "(3909, 16)"
            ]
          },
          "metadata": {
            "tags": []
          },
          "execution_count": 74
        }
      ]
    },
    {
      "cell_type": "code",
      "metadata": {
        "colab": {
          "base_uri": "https://localhost:8080/"
        },
        "id": "VwzT4rZg-CQ7",
        "outputId": "7a0945fd-54e8-46d1-bc57-b70b845e2256"
      },
      "source": [
        "analyst.shape"
      ],
      "execution_count": 75,
      "outputs": [
        {
          "output_type": "execute_result",
          "data": {
            "text/plain": [
              "(5631, 16)"
            ]
          },
          "metadata": {
            "tags": []
          },
          "execution_count": 75
        }
      ]
    },
    {
      "cell_type": "code",
      "metadata": {
        "colab": {
          "base_uri": "https://localhost:8080/"
        },
        "id": "bfdALmUX-ETY",
        "outputId": "4fe3e9db-cbe3-47b0-e602-c0a94455df6e"
      },
      "source": [
        "engineer.shape"
      ],
      "execution_count": 76,
      "outputs": [
        {
          "output_type": "execute_result",
          "data": {
            "text/plain": [
              "(2528, 16)"
            ]
          },
          "metadata": {
            "tags": []
          },
          "execution_count": 76
        }
      ]
    },
    {
      "cell_type": "code",
      "metadata": {
        "id": "ZHH1omtnWWBI"
      },
      "source": [
        "all_data = pd.concat([analyst,scientist,engineer])"
      ],
      "execution_count": 77,
      "outputs": []
    },
    {
      "cell_type": "code",
      "metadata": {
        "colab": {
          "base_uri": "https://localhost:8080/"
        },
        "id": "m7DVZruTWZtr",
        "outputId": "bc07491b-1a69-427a-f624-dbe12b7a7380"
      },
      "source": [
        "all_data.shape"
      ],
      "execution_count": 78,
      "outputs": [
        {
          "output_type": "execute_result",
          "data": {
            "text/plain": [
              "(12068, 16)"
            ]
          },
          "metadata": {
            "tags": []
          },
          "execution_count": 78
        }
      ]
    },
    {
      "cell_type": "code",
      "metadata": {
        "colab": {
          "base_uri": "https://localhost:8080/",
          "height": 403
        },
        "id": "2_kQU95SZdfd",
        "outputId": "87a6a46f-b972-4db6-8f7b-0435a7689f4e"
      },
      "source": [
        "all_data.head(3)"
      ],
      "execution_count": 79,
      "outputs": [
        {
          "output_type": "execute_result",
          "data": {
            "text/html": [
              "<div>\n",
              "<style scoped>\n",
              "    .dataframe tbody tr th:only-of-type {\n",
              "        vertical-align: middle;\n",
              "    }\n",
              "\n",
              "    .dataframe tbody tr th {\n",
              "        vertical-align: top;\n",
              "    }\n",
              "\n",
              "    .dataframe thead th {\n",
              "        text-align: right;\n",
              "    }\n",
              "</style>\n",
              "<table border=\"1\" class=\"dataframe\">\n",
              "  <thead>\n",
              "    <tr style=\"text-align: right;\">\n",
              "      <th></th>\n",
              "      <th>Job Title</th>\n",
              "      <th>Salary Estimate</th>\n",
              "      <th>Job Description</th>\n",
              "      <th>Rating</th>\n",
              "      <th>Company Name</th>\n",
              "      <th>Location</th>\n",
              "      <th>Headquarters</th>\n",
              "      <th>Size</th>\n",
              "      <th>Founded</th>\n",
              "      <th>Type of ownership</th>\n",
              "      <th>Industry</th>\n",
              "      <th>Sector</th>\n",
              "      <th>Revenue</th>\n",
              "      <th>Competitors</th>\n",
              "      <th>Easy Apply</th>\n",
              "      <th>Label</th>\n",
              "    </tr>\n",
              "  </thead>\n",
              "  <tbody>\n",
              "    <tr>\n",
              "      <th>0</th>\n",
              "      <td>Data Analyst, Center on Immigration and Justic...</td>\n",
              "      <td>$37K-$66K (Glassdoor est.)</td>\n",
              "      <td>Are you eager to roll up your sleeves and harn...</td>\n",
              "      <td>3.2</td>\n",
              "      <td>Vera Institute of Justice\\n3.2</td>\n",
              "      <td>New York, NY</td>\n",
              "      <td>New York, NY</td>\n",
              "      <td>201 to 500 employees</td>\n",
              "      <td>1961</td>\n",
              "      <td>Nonprofit Organization</td>\n",
              "      <td>Social Assistance</td>\n",
              "      <td>Non-Profit</td>\n",
              "      <td>$100 to $500 million (USD)</td>\n",
              "      <td>-1</td>\n",
              "      <td>True</td>\n",
              "      <td>Data Analyst</td>\n",
              "    </tr>\n",
              "    <tr>\n",
              "      <th>1</th>\n",
              "      <td>Quality Data Analyst</td>\n",
              "      <td>$37K-$66K (Glassdoor est.)</td>\n",
              "      <td>Overview\\n\\nProvides analytical and technical ...</td>\n",
              "      <td>3.8</td>\n",
              "      <td>Visiting Nurse Service of New York\\n3.8</td>\n",
              "      <td>New York, NY</td>\n",
              "      <td>New York, NY</td>\n",
              "      <td>10000+ employees</td>\n",
              "      <td>1893</td>\n",
              "      <td>Nonprofit Organization</td>\n",
              "      <td>Health Care Services &amp; Hospitals</td>\n",
              "      <td>Health Care</td>\n",
              "      <td>$2 to $5 billion (USD)</td>\n",
              "      <td>-1</td>\n",
              "      <td>-1</td>\n",
              "      <td>Data Analyst</td>\n",
              "    </tr>\n",
              "    <tr>\n",
              "      <th>2</th>\n",
              "      <td>Senior Data Analyst, Insights &amp; Analytics Team...</td>\n",
              "      <td>$37K-$66K (Glassdoor est.)</td>\n",
              "      <td>We’re looking for a Senior Data Analyst who ha...</td>\n",
              "      <td>3.4</td>\n",
              "      <td>Squarespace\\n3.4</td>\n",
              "      <td>New York, NY</td>\n",
              "      <td>New York, NY</td>\n",
              "      <td>1001 to 5000 employees</td>\n",
              "      <td>2003</td>\n",
              "      <td>Company - Private</td>\n",
              "      <td>Internet</td>\n",
              "      <td>Information Technology</td>\n",
              "      <td>Unknown / Non-Applicable</td>\n",
              "      <td>GoDaddy</td>\n",
              "      <td>-1</td>\n",
              "      <td>Data Analyst</td>\n",
              "    </tr>\n",
              "  </tbody>\n",
              "</table>\n",
              "</div>"
            ],
            "text/plain": [
              "                                           Job Title  ...         Label\n",
              "0  Data Analyst, Center on Immigration and Justic...  ...  Data Analyst\n",
              "1                               Quality Data Analyst  ...  Data Analyst\n",
              "2  Senior Data Analyst, Insights & Analytics Team...  ...  Data Analyst\n",
              "\n",
              "[3 rows x 16 columns]"
            ]
          },
          "metadata": {
            "tags": []
          },
          "execution_count": 79
        }
      ]
    },
    {
      "cell_type": "markdown",
      "metadata": {
        "id": "mEX9Eot2uG0g"
      },
      "source": [
        "# Data Cleaning\n",
        "- remove duplicates\n",
        "- clean up `Company Name`\n",
        "- bin `Revenue` and `Size`\n",
        "- convert `Salary Estimate` to integers\n",
        "- make `Job Description` lower case\n",
        "- extract level of seniority\n",
        "- map `Location`"
      ]
    },
    {
      "cell_type": "markdown",
      "metadata": {
        "id": "pIcsqbrvuG0g"
      },
      "source": [
        "### Remove duplicate job postings"
      ]
    },
    {
      "cell_type": "code",
      "metadata": {
        "colab": {
          "base_uri": "https://localhost:8080/",
          "height": 403
        },
        "id": "ErdiObfuZklk",
        "outputId": "793a7b79-8ee9-42fe-bc50-3637e3d27e85"
      },
      "source": [
        "df = all_data.drop_duplicates(subset=['Job Title', 'Salary Estimate', 'Job Description', \n",
        "                                      'Company Name', 'Location', 'Industry', 'Sector',\n",
        "                                      'Easy Apply']).reset_index(drop=True)\n",
        "df.head(3)"
      ],
      "execution_count": 80,
      "outputs": [
        {
          "output_type": "execute_result",
          "data": {
            "text/html": [
              "<div>\n",
              "<style scoped>\n",
              "    .dataframe tbody tr th:only-of-type {\n",
              "        vertical-align: middle;\n",
              "    }\n",
              "\n",
              "    .dataframe tbody tr th {\n",
              "        vertical-align: top;\n",
              "    }\n",
              "\n",
              "    .dataframe thead th {\n",
              "        text-align: right;\n",
              "    }\n",
              "</style>\n",
              "<table border=\"1\" class=\"dataframe\">\n",
              "  <thead>\n",
              "    <tr style=\"text-align: right;\">\n",
              "      <th></th>\n",
              "      <th>Job Title</th>\n",
              "      <th>Salary Estimate</th>\n",
              "      <th>Job Description</th>\n",
              "      <th>Rating</th>\n",
              "      <th>Company Name</th>\n",
              "      <th>Location</th>\n",
              "      <th>Headquarters</th>\n",
              "      <th>Size</th>\n",
              "      <th>Founded</th>\n",
              "      <th>Type of ownership</th>\n",
              "      <th>Industry</th>\n",
              "      <th>Sector</th>\n",
              "      <th>Revenue</th>\n",
              "      <th>Competitors</th>\n",
              "      <th>Easy Apply</th>\n",
              "      <th>Label</th>\n",
              "    </tr>\n",
              "  </thead>\n",
              "  <tbody>\n",
              "    <tr>\n",
              "      <th>0</th>\n",
              "      <td>Data Analyst, Center on Immigration and Justic...</td>\n",
              "      <td>$37K-$66K (Glassdoor est.)</td>\n",
              "      <td>Are you eager to roll up your sleeves and harn...</td>\n",
              "      <td>3.2</td>\n",
              "      <td>Vera Institute of Justice\\n3.2</td>\n",
              "      <td>New York, NY</td>\n",
              "      <td>New York, NY</td>\n",
              "      <td>201 to 500 employees</td>\n",
              "      <td>1961</td>\n",
              "      <td>Nonprofit Organization</td>\n",
              "      <td>Social Assistance</td>\n",
              "      <td>Non-Profit</td>\n",
              "      <td>$100 to $500 million (USD)</td>\n",
              "      <td>-1</td>\n",
              "      <td>True</td>\n",
              "      <td>Data Analyst</td>\n",
              "    </tr>\n",
              "    <tr>\n",
              "      <th>1</th>\n",
              "      <td>Quality Data Analyst</td>\n",
              "      <td>$37K-$66K (Glassdoor est.)</td>\n",
              "      <td>Overview\\n\\nProvides analytical and technical ...</td>\n",
              "      <td>3.8</td>\n",
              "      <td>Visiting Nurse Service of New York\\n3.8</td>\n",
              "      <td>New York, NY</td>\n",
              "      <td>New York, NY</td>\n",
              "      <td>10000+ employees</td>\n",
              "      <td>1893</td>\n",
              "      <td>Nonprofit Organization</td>\n",
              "      <td>Health Care Services &amp; Hospitals</td>\n",
              "      <td>Health Care</td>\n",
              "      <td>$2 to $5 billion (USD)</td>\n",
              "      <td>-1</td>\n",
              "      <td>-1</td>\n",
              "      <td>Data Analyst</td>\n",
              "    </tr>\n",
              "    <tr>\n",
              "      <th>2</th>\n",
              "      <td>Senior Data Analyst, Insights &amp; Analytics Team...</td>\n",
              "      <td>$37K-$66K (Glassdoor est.)</td>\n",
              "      <td>We’re looking for a Senior Data Analyst who ha...</td>\n",
              "      <td>3.4</td>\n",
              "      <td>Squarespace\\n3.4</td>\n",
              "      <td>New York, NY</td>\n",
              "      <td>New York, NY</td>\n",
              "      <td>1001 to 5000 employees</td>\n",
              "      <td>2003</td>\n",
              "      <td>Company - Private</td>\n",
              "      <td>Internet</td>\n",
              "      <td>Information Technology</td>\n",
              "      <td>Unknown / Non-Applicable</td>\n",
              "      <td>GoDaddy</td>\n",
              "      <td>-1</td>\n",
              "      <td>Data Analyst</td>\n",
              "    </tr>\n",
              "  </tbody>\n",
              "</table>\n",
              "</div>"
            ],
            "text/plain": [
              "                                           Job Title  ...         Label\n",
              "0  Data Analyst, Center on Immigration and Justic...  ...  Data Analyst\n",
              "1                               Quality Data Analyst  ...  Data Analyst\n",
              "2  Senior Data Analyst, Insights & Analytics Team...  ...  Data Analyst\n",
              "\n",
              "[3 rows x 16 columns]"
            ]
          },
          "metadata": {
            "tags": []
          },
          "execution_count": 80
        }
      ]
    },
    {
      "cell_type": "code",
      "metadata": {
        "colab": {
          "base_uri": "https://localhost:8080/"
        },
        "id": "ivYf6d8faDG8",
        "outputId": "95147717-b448-40cb-e299-67e343903d39"
      },
      "source": [
        "df.shape # took out 15 jobs"
      ],
      "execution_count": 81,
      "outputs": [
        {
          "output_type": "execute_result",
          "data": {
            "text/plain": [
              "(12053, 16)"
            ]
          },
          "metadata": {
            "tags": []
          },
          "execution_count": 81
        }
      ]
    },
    {
      "cell_type": "markdown",
      "metadata": {
        "id": "gvUkCXrruG0g"
      },
      "source": [
        "### Clean up `Company Name` by removing ratings"
      ]
    },
    {
      "cell_type": "code",
      "metadata": {
        "colab": {
          "base_uri": "https://localhost:8080/",
          "height": 403
        },
        "id": "GG-3bJ0qOr5f",
        "outputId": "861d1994-3021-4dd1-8585-970b754eb843"
      },
      "source": [
        "# taking out rating from company name\n",
        "for i in range(len(df)):\n",
        "    try:\n",
        "        df.loc[i, 'Company Name'] = re.sub('\\\\n\\d\\.\\d', '', df.loc[i, 'Company Name'])\n",
        "    except TypeError:\n",
        "        continue\n",
        "\n",
        "df.head(3)"
      ],
      "execution_count": 82,
      "outputs": [
        {
          "output_type": "execute_result",
          "data": {
            "text/html": [
              "<div>\n",
              "<style scoped>\n",
              "    .dataframe tbody tr th:only-of-type {\n",
              "        vertical-align: middle;\n",
              "    }\n",
              "\n",
              "    .dataframe tbody tr th {\n",
              "        vertical-align: top;\n",
              "    }\n",
              "\n",
              "    .dataframe thead th {\n",
              "        text-align: right;\n",
              "    }\n",
              "</style>\n",
              "<table border=\"1\" class=\"dataframe\">\n",
              "  <thead>\n",
              "    <tr style=\"text-align: right;\">\n",
              "      <th></th>\n",
              "      <th>Job Title</th>\n",
              "      <th>Salary Estimate</th>\n",
              "      <th>Job Description</th>\n",
              "      <th>Rating</th>\n",
              "      <th>Company Name</th>\n",
              "      <th>Location</th>\n",
              "      <th>Headquarters</th>\n",
              "      <th>Size</th>\n",
              "      <th>Founded</th>\n",
              "      <th>Type of ownership</th>\n",
              "      <th>Industry</th>\n",
              "      <th>Sector</th>\n",
              "      <th>Revenue</th>\n",
              "      <th>Competitors</th>\n",
              "      <th>Easy Apply</th>\n",
              "      <th>Label</th>\n",
              "    </tr>\n",
              "  </thead>\n",
              "  <tbody>\n",
              "    <tr>\n",
              "      <th>0</th>\n",
              "      <td>Data Analyst, Center on Immigration and Justic...</td>\n",
              "      <td>$37K-$66K (Glassdoor est.)</td>\n",
              "      <td>Are you eager to roll up your sleeves and harn...</td>\n",
              "      <td>3.2</td>\n",
              "      <td>Vera Institute of Justice</td>\n",
              "      <td>New York, NY</td>\n",
              "      <td>New York, NY</td>\n",
              "      <td>201 to 500 employees</td>\n",
              "      <td>1961</td>\n",
              "      <td>Nonprofit Organization</td>\n",
              "      <td>Social Assistance</td>\n",
              "      <td>Non-Profit</td>\n",
              "      <td>$100 to $500 million (USD)</td>\n",
              "      <td>-1</td>\n",
              "      <td>True</td>\n",
              "      <td>Data Analyst</td>\n",
              "    </tr>\n",
              "    <tr>\n",
              "      <th>1</th>\n",
              "      <td>Quality Data Analyst</td>\n",
              "      <td>$37K-$66K (Glassdoor est.)</td>\n",
              "      <td>Overview\\n\\nProvides analytical and technical ...</td>\n",
              "      <td>3.8</td>\n",
              "      <td>Visiting Nurse Service of New York</td>\n",
              "      <td>New York, NY</td>\n",
              "      <td>New York, NY</td>\n",
              "      <td>10000+ employees</td>\n",
              "      <td>1893</td>\n",
              "      <td>Nonprofit Organization</td>\n",
              "      <td>Health Care Services &amp; Hospitals</td>\n",
              "      <td>Health Care</td>\n",
              "      <td>$2 to $5 billion (USD)</td>\n",
              "      <td>-1</td>\n",
              "      <td>-1</td>\n",
              "      <td>Data Analyst</td>\n",
              "    </tr>\n",
              "    <tr>\n",
              "      <th>2</th>\n",
              "      <td>Senior Data Analyst, Insights &amp; Analytics Team...</td>\n",
              "      <td>$37K-$66K (Glassdoor est.)</td>\n",
              "      <td>We’re looking for a Senior Data Analyst who ha...</td>\n",
              "      <td>3.4</td>\n",
              "      <td>Squarespace</td>\n",
              "      <td>New York, NY</td>\n",
              "      <td>New York, NY</td>\n",
              "      <td>1001 to 5000 employees</td>\n",
              "      <td>2003</td>\n",
              "      <td>Company - Private</td>\n",
              "      <td>Internet</td>\n",
              "      <td>Information Technology</td>\n",
              "      <td>Unknown / Non-Applicable</td>\n",
              "      <td>GoDaddy</td>\n",
              "      <td>-1</td>\n",
              "      <td>Data Analyst</td>\n",
              "    </tr>\n",
              "  </tbody>\n",
              "</table>\n",
              "</div>"
            ],
            "text/plain": [
              "                                           Job Title  ...         Label\n",
              "0  Data Analyst, Center on Immigration and Justic...  ...  Data Analyst\n",
              "1                               Quality Data Analyst  ...  Data Analyst\n",
              "2  Senior Data Analyst, Insights & Analytics Team...  ...  Data Analyst\n",
              "\n",
              "[3 rows x 16 columns]"
            ]
          },
          "metadata": {
            "tags": []
          },
          "execution_count": 82
        }
      ]
    },
    {
      "cell_type": "markdown",
      "metadata": {
        "id": "sf_f6RPeuG0h"
      },
      "source": [
        "### Make bins for company `Revenue`\n",
        "\n",
        "| Revenue                               | Bin |\n",
        "|---------------------------------------|-----|\n",
        "|'Less than \\\\$1 million (USD)'         | 1   |\n",
        "|'\\\\$1 to \\\\$5 million (USD)'           | 2   |\n",
        "|'\\\\$5 to \\\\$10 million (USD)'          | 3   |\n",
        "|'\\\\$10 to \\\\$25 million (USD)'         | 4   |\n",
        "|'\\\\$25 to \\\\$50 million (USD)'         | 5   |\n",
        "|'\\\\$50 to \\\\$100 million (USD)'        | 6   |\n",
        "|'\\\\$100 to \\\\$500 million (USD)'       | 7   |\n",
        "|'\\\\$500 million to \\\\$1 billion (USD)' | 8   |\n",
        "|'\\\\$1 to \\\\$2 billion (USD)'           | 9   |\n",
        "|'\\\\$2 to \\\\$5 billion (USD)'           | 10  |\n",
        "|'\\\\$5 to \\\\$10 billion (USD)'          | 11  |\n",
        "|'\\\\$10+ billion (USD)'                 | 12  |\n",
        "|'Unknown / Non-Applicable' or '-1'     | NaN |"
      ]
    },
    {
      "cell_type": "code",
      "metadata": {
        "colab": {
          "base_uri": "https://localhost:8080/"
        },
        "id": "GeS2wdLO6Rx1",
        "outputId": "1112a9e7-c49c-4f1d-a3d9-7797970fcd02"
      },
      "source": [
        "# Revenue is neatly categorized. \n",
        "# We just need to convert it into ordinal values that we can work with.\n",
        "df[\"Revenue\"].value_counts()"
      ],
      "execution_count": 83,
      "outputs": [
        {
          "output_type": "execute_result",
          "data": {
            "text/plain": [
              "Unknown / Non-Applicable            3326\n",
              "$10+ billion (USD)                  1499\n",
              "$100 to $500 million (USD)          1179\n",
              "$50 to $100 million (USD)            907\n",
              "-1                                   713\n",
              "$10 to $25 million (USD)             662\n",
              "$2 to $5 billion (USD)               647\n",
              "$25 to $50 million (USD)             568\n",
              "$1 to $5 million (USD)               538\n",
              "$1 to $2 billion (USD)               513\n",
              "$5 to $10 billion (USD)              401\n",
              "Less than $1 million (USD)           384\n",
              "$500 million to $1 billion (USD)     380\n",
              "$5 to $10 million (USD)              336\n",
              "Name: Revenue, dtype: int64"
            ]
          },
          "metadata": {
            "tags": []
          },
          "execution_count": 83
        }
      ]
    },
    {
      "cell_type": "code",
      "metadata": {
        "id": "Zo1Hq5amPqJY"
      },
      "source": [
        "# map Revenue to ordinal variables\n",
        "rev_mapper = {'Unknown / Non-Applicable': np.nan, '-1': np.nan, 'Less than $1 million (USD)': 1, \n",
        "              '$1 to $5 million (USD)': 2, '$5 to $10 million (USD)': 3, '$10 to $25 million (USD)': 4, \n",
        "              '$25 to $50 million (USD)': 5, '$50 to $100 million (USD)': 6, '$100 to $500 million (USD)': 7, \n",
        "              '$500 million to $1 billion (USD)': 8, '$1 to $2 billion (USD)': 9, '$2 to $5 billion (USD)': 10, \n",
        "              '$5 to $10 billion (USD)': 11, '$10+ billion (USD)': 12}\n",
        "df.loc[:, 'Ordinal Revenue'] = df.loc[:, 'Revenue'].replace(rev_mapper)"
      ],
      "execution_count": 84,
      "outputs": []
    },
    {
      "cell_type": "code",
      "metadata": {
        "colab": {
          "base_uri": "https://localhost:8080/",
          "height": 513
        },
        "id": "lKXTiA5y7r0_",
        "outputId": "6afb2daa-4c48-49da-e99b-7cc242cd1a48"
      },
      "source": [
        "unique_companies = df.drop_duplicates(subset=['Company Name', 'Location', 'Sector'])\n",
        "labels=['Less than \\\\$1 million (USD)', '\\\\$1 to \\\\$5 million (USD)',\n",
        "        '\\\\$5 to \\\\$10 million (USD)', '\\\\$10 to \\\\$25 million (USD)', \n",
        "        '\\\\$25 to \\\\$50 million (USD)', '\\\\$50 to \\\\$100 million (USD)', \n",
        "        '\\\\$100 to \\\\$500 million (USD)', '\\\\$500 million to \\\\$1 billion (USD)', \n",
        "        '\\\\$1 to \\\\$2 billion (USD)', '\\\\$2 to \\\\$5 billion (USD)', \n",
        "        '\\\\$5 to \\\\$10 billion (USD)', '\\\\$10+ billion (USD)']\n",
        "\n",
        "#plt.hist(unique_companies['Ordinal Revenue'], bins=12, orientation=\"horizontal\")\n",
        "plt.figure(figsize=(10, 8))\n",
        "sns.countplot(y='Ordinal Revenue', hue=\"Label\", data=unique_companies)\n",
        "plt.title('Number of Jobs v. Ordinal Revenue')\n",
        "plt.yticks(np.arange(0, 12), labels=labels)\n",
        "plt.ylabel('Ordinal Revenue')\n",
        "plt.xlabel('Number of Jobs');"
      ],
      "execution_count": 85,
      "outputs": [
        {
          "output_type": "display_data",
          "data": {
            "image/png": "[encoded data removed]",
            "text/plain": [
              "<Figure size 720x576 with 1 Axes>"
            ]
          },
          "metadata": {
            "tags": [],
            "needs_background": "light"
          }
        }
      ]
    },
    {
      "cell_type": "markdown",
      "metadata": {
        "id": "AiK4wN0uuG0h"
      },
      "source": [
        "### Make bins for company `Size`\n",
        "\n",
        "| Size                     | Bin  |\n",
        "|--------------------------|------|\n",
        "|'1 to 50 employees'       |  1   |\n",
        "|'51 to 200 employees'     |  2   |\n",
        "|'201 to 500 employees'    |  3   |\n",
        "|'501 to 1000 employees'   |  4   |\n",
        "|'1001 to 5000 employees'  |  5   |\n",
        "|'5001 to 10000 employees' |  6   |\n",
        "|'10000+ employees'        |  7   |\n",
        "|'Unknown' or '-1'         |  NaN |"
      ]
    },
    {
      "cell_type": "code",
      "metadata": {
        "colab": {
          "base_uri": "https://localhost:8080/"
        },
        "id": "9GALO8-OuG0h",
        "outputId": "b5a840c3-e502-4bfa-d349-8a1a09094a7f"
      },
      "source": [
        "# there are 7 categories of company sizes\n",
        "# we convert the strings into ordinal data using the mapping above\n",
        "df['Size'].value_counts()"
      ],
      "execution_count": 86,
      "outputs": [
        {
          "output_type": "execute_result",
          "data": {
            "text/plain": [
              "10000+ employees           2571\n",
              "51 to 200 employees        2106\n",
              "1001 to 5000 employees     1835\n",
              "1 to 50 employees          1675\n",
              "201 to 500 employees       1240\n",
              "501 to 1000 employees      1017\n",
              "-1                          713\n",
              "5001 to 10000 employees     657\n",
              "Unknown                     239\n",
              "Name: Size, dtype: int64"
            ]
          },
          "metadata": {
            "tags": []
          },
          "execution_count": 86
        }
      ]
    },
    {
      "cell_type": "code",
      "metadata": {
        "colab": {
          "base_uri": "https://localhost:8080/"
        },
        "id": "EqwgcgRkuG0h",
        "outputId": "c55081e3-58ac-4817-81c2-1e6aca7e4192"
      },
      "source": [
        "size_mapping = {'1 to 50 employees': 1, '51 to 200 employees': 2, '201 to 500 employees': 3, \n",
        " '501 to 1000 employees': 4, '1001 to 5000 employees': 5, '5001 to 10000 employees': 6, \n",
        " '10000+ employees': 7, 'Unknown': np.nan, '-1': np.nan}\n",
        "\n",
        "df.loc[:, \"Ordinal Size\"] = df.loc[:, 'Size'].map(size_mapping)\n",
        "df[\"Ordinal Size\"].value_counts()"
      ],
      "execution_count": 87,
      "outputs": [
        {
          "output_type": "execute_result",
          "data": {
            "text/plain": [
              "7.0    2571\n",
              "2.0    2106\n",
              "5.0    1835\n",
              "1.0    1675\n",
              "3.0    1240\n",
              "4.0    1017\n",
              "6.0     657\n",
              "Name: Ordinal Size, dtype: int64"
            ]
          },
          "metadata": {
            "tags": []
          },
          "execution_count": 87
        }
      ]
    },
    {
      "cell_type": "code",
      "metadata": {
        "colab": {
          "base_uri": "https://localhost:8080/",
          "height": 513
        },
        "id": "rIvh9PgguG0h",
        "outputId": "360ab8ee-1150-41b2-8ddc-f5b25f110398"
      },
      "source": [
        "unique_companies = df.drop_duplicates(subset=['Company Name', 'Location', 'Sector'])\n",
        "labels=['1 to 50 employees', '51 to 200 employees', '201 to 500 employees', \n",
        "        '501 to 1000 employees', '1001 to 5000 employees', '5001 to 10000 employees', \n",
        "        '10000+ employees']\n",
        "\n",
        "plt.figure(figsize=(10, 8))\n",
        "sns.countplot(y='Ordinal Size', hue=\"Label\", data=unique_companies)\n",
        "plt.title('Number of Jobs v. Ordinal Size')\n",
        "plt.yticks(np.arange(0, 7), labels=labels)\n",
        "plt.ylabel('Ordinal Size')\n",
        "plt.xlabel('Number of Jobs');"
      ],
      "execution_count": 88,
      "outputs": [
        {
          "output_type": "display_data",
          "data": {
            "image/png": "[encoded data removed]",
            "text/plain": [
              "<Figure size 720x576 with 1 Axes>"
            ]
          },
          "metadata": {
            "tags": [],
            "needs_background": "light"
          }
        }
      ]
    },
    {
      "cell_type": "markdown",
      "metadata": {
        "id": "pqp2pu3XuG0h"
      },
      "source": [
        "### Convert `Salary Estimate` to integers"
      ]
    },
    {
      "cell_type": "code",
      "metadata": {
        "id": "DD-u2puQl3OG"
      },
      "source": [
        "# Salary Estimate Beginning Range\n",
        "# Salary Estimate End Range\n",
        "sal_beg_est = []\n",
        "sal_end_est = []\n",
        "for i in range(len(df)):\n",
        "    sal_est = df['Salary Estimate'][i]\n",
        "    if sal_est == '-1':\n",
        "        beg = np.nan\n",
        "        end = np.nan\n",
        "    else:\n",
        "        sal = re.split(r'\\-', sal_est)\n",
        "        # avg working hours per yr in USA: 1,768 hours \n",
        "        if re.search('Hour', sal_est):\n",
        "            beg = int(re.findall(r'\\d+',sal[0])[0])*1768\n",
        "            end = int(re.findall(r'\\d+',sal[1])[0])*1768\n",
        "        # Split by K - signifying 1000\n",
        "        else:\n",
        "            beg = int(re.findall(r'\\d+',sal[0])[0])*1000\n",
        "            end = int(re.findall(r'\\d+',sal[1])[0])*1000\n",
        "    sal_beg_est.append(beg)\n",
        "    sal_end_est.append(end)\n",
        "df['Salary Estimate Beginning Range'] = sal_beg_est\n",
        "df['Salary Estimate Ending Range'] = sal_end_est"
      ],
      "execution_count": 89,
      "outputs": []
    },
    {
      "cell_type": "code",
      "metadata": {
        "colab": {
          "base_uri": "https://localhost:8080/",
          "height": 603
        },
        "id": "rWB3Kt28mEHO",
        "outputId": "38891166-2fa9-4140-e1fe-8007eb8e8c03"
      },
      "source": [
        "plt.figure(figsize = (10,8))\n",
        "sns.distplot(df['Salary Estimate Beginning Range'], label = 'Beginning Range')\n",
        "sns.distplot(df['Salary Estimate Ending Range'], label = 'Ending Range')\n",
        "plt.title('Salary Estimate for Data Jobs')\n",
        "plt.xlabel('Salary Estimate')\n",
        "plt.legend()\n",
        "plt.show();"
      ],
      "execution_count": 90,
      "outputs": [
        {
          "output_type": "stream",
          "text": [
            "/usr/local/lib/python3.6/dist-packages/seaborn/distributions.py:2551: FutureWarning: `distplot` is a deprecated function and will be removed in a future version. Please adapt your code to use either `displot` (a figure-level function with similar flexibility) or `histplot` (an axes-level function for histograms).\n",
            "  warnings.warn(msg, FutureWarning)\n",
            "/usr/local/lib/python3.6/dist-packages/seaborn/distributions.py:2551: FutureWarning: `distplot` is a deprecated function and will be removed in a future version. Please adapt your code to use either `displot` (a figure-level function with similar flexibility) or `histplot` (an axes-level function for histograms).\n",
            "  warnings.warn(msg, FutureWarning)\n"
          ],
          "name": "stderr"
        },
        {
          "output_type": "display_data",
          "data": {
            "image/png": "[encoded data removed]",
            "text/plain": [
              "<Figure size 720x576 with 1 Axes>"
            ]
          },
          "metadata": {
            "tags": [],
            "needs_background": "light"
          }
        }
      ]
    },
    {
      "cell_type": "markdown",
      "metadata": {
        "id": "pbW2fTdTnWIr"
      },
      "source": [
        "The beginning salary estimate has a more steep slope than the ending salary estimate. The mean for the beginning and ending salary estimate is \\$68,082 and \\$111,910."
      ]
    },
    {
      "cell_type": "code",
      "metadata": {
        "colab": {
          "base_uri": "https://localhost:8080/"
        },
        "id": "YS87TCwenNvh",
        "outputId": "8b3eeec4-6adc-48fa-c20c-446cb4036e15"
      },
      "source": [
        "df['Salary Estimate Beginning Range'].describe()"
      ],
      "execution_count": 91,
      "outputs": [
        {
          "output_type": "execute_result",
          "data": {
            "text/plain": [
              "count     12007.000000\n",
              "mean      68082.735071\n",
              "std       29640.633429\n",
              "min       12000.000000\n",
              "25%       46000.000000\n",
              "50%       60000.000000\n",
              "75%       85000.000000\n",
              "max      200000.000000\n",
              "Name: Salary Estimate Beginning Range, dtype: float64"
            ]
          },
          "metadata": {
            "tags": []
          },
          "execution_count": 91
        }
      ]
    },
    {
      "cell_type": "code",
      "metadata": {
        "colab": {
          "base_uri": "https://localhost:8080/"
        },
        "id": "5_CHlpxXnbFS",
        "outputId": "0982c35e-6f20-473d-a1fc-2accf4f33fbe"
      },
      "source": [
        "df['Salary Estimate Ending Range'].describe()"
      ],
      "execution_count": 92,
      "outputs": [
        {
          "output_type": "execute_result",
          "data": {
            "text/plain": [
              "count     12007.000000\n",
              "mean     111910.612809\n",
              "std       41789.351717\n",
              "min       37000.000000\n",
              "25%       81000.000000\n",
              "50%      104000.000000\n",
              "75%      139000.000000\n",
              "max      281000.000000\n",
              "Name: Salary Estimate Ending Range, dtype: float64"
            ]
          },
          "metadata": {
            "tags": []
          },
          "execution_count": 92
        }
      ]
    },
    {
      "cell_type": "markdown",
      "metadata": {
        "id": "0lFco4UYuG0i"
      },
      "source": [
        "### Make `Job Description` lower case and get it's length"
      ]
    },
    {
      "cell_type": "code",
      "metadata": {
        "id": "RdhYC0hXbCgz"
      },
      "source": [
        "# make all of job description lowercase\n",
        "# take out the labels in the job description column \n",
        "# take out the digits and _ in the job description column\n",
        "# because then the corpus would have the labels that we want to guess\n",
        "job_description_len = []\n",
        "for i in range(len(df)):\n",
        "    job_desc = df.loc[i,'Job Description'].lower()\n",
        "    job_desc_without_label = re.sub(r'(data analyst)|(data scientist)|(data engineer)','',job_desc)\n",
        "    replace = re.sub('[^a-zA-Z]', ' ',job_desc_without_label)\n",
        "    df.loc[i,'Job Description'] = replace\n",
        "    words = len(df.loc[i, 'Job Description'].split())\n",
        "    job_description_len.append(words)\n",
        "df['Job Description Length'] = job_description_len"
      ],
      "execution_count": 93,
      "outputs": []
    },
    {
      "cell_type": "markdown",
      "metadata": {
        "id": "ADiTaMbWuG0i"
      },
      "source": [
        "### Extract level of seniority"
      ]
    },
    {
      "cell_type": "code",
      "metadata": {
        "colab": {
          "base_uri": "https://localhost:8080/",
          "height": 325
        },
        "id": "YWm0RnHUPKHH",
        "outputId": "0c2be5e5-79d9-4056-cd6c-e26083f282aa"
      },
      "source": [
        "# new column indicating entry level position\n",
        "df.loc[:, 'entry'] = [(('intern' in x) | ('junior' in x) | ('trainee' in x) | ('coordinator' in x) | ('associate' in x)) for x in df['Job Description'].str.lower()]\n",
        "# new column indicating mid-level position\n",
        "df.loc[:, 'mid'] = [(('manager' in x) | ('lead' in x) | ('project' in x) | ('superintendent' in x) | ('supervisor' in x)) for x in df['Job Description'].str.lower()]\n",
        "# new column indicating senior level position\n",
        "df.loc[:, 'senior'] = [(('director' in x) | ('president' in x) | ('chief' in x) | ('head' in x) | ('senior' in x)) for x in df['Job Description'].str.lower()]\n",
        "\n",
        "# given the number of jobs that fit into 2+ categories, not so sure this is the best approach for extracting the seniority of the position\n",
        "# we recognize that the terms may show up in reference to who the position requires them to work with instead of the position itself\n",
        "df.groupby(['entry', 'mid', 'senior']).count()[[\"Job Title\"]]"
      ],
      "execution_count": 94,
      "outputs": [
        {
          "output_type": "execute_result",
          "data": {
            "text/html": [
              "<div>\n",
              "<style scoped>\n",
              "    .dataframe tbody tr th:only-of-type {\n",
              "        vertical-align: middle;\n",
              "    }\n",
              "\n",
              "    .dataframe tbody tr th {\n",
              "        vertical-align: top;\n",
              "    }\n",
              "\n",
              "    .dataframe thead th {\n",
              "        text-align: right;\n",
              "    }\n",
              "</style>\n",
              "<table border=\"1\" class=\"dataframe\">\n",
              "  <thead>\n",
              "    <tr style=\"text-align: right;\">\n",
              "      <th></th>\n",
              "      <th></th>\n",
              "      <th></th>\n",
              "      <th>Job Title</th>\n",
              "    </tr>\n",
              "    <tr>\n",
              "      <th>entry</th>\n",
              "      <th>mid</th>\n",
              "      <th>senior</th>\n",
              "      <th></th>\n",
              "    </tr>\n",
              "  </thead>\n",
              "  <tbody>\n",
              "    <tr>\n",
              "      <th rowspan=\"4\" valign=\"top\">False</th>\n",
              "      <th rowspan=\"2\" valign=\"top\">False</th>\n",
              "      <th>False</th>\n",
              "      <td>1599</td>\n",
              "    </tr>\n",
              "    <tr>\n",
              "      <th>True</th>\n",
              "      <td>365</td>\n",
              "    </tr>\n",
              "    <tr>\n",
              "      <th rowspan=\"2\" valign=\"top\">True</th>\n",
              "      <th>False</th>\n",
              "      <td>3357</td>\n",
              "    </tr>\n",
              "    <tr>\n",
              "      <th>True</th>\n",
              "      <td>1455</td>\n",
              "    </tr>\n",
              "    <tr>\n",
              "      <th rowspan=\"4\" valign=\"top\">True</th>\n",
              "      <th rowspan=\"2\" valign=\"top\">False</th>\n",
              "      <th>False</th>\n",
              "      <td>575</td>\n",
              "    </tr>\n",
              "    <tr>\n",
              "      <th>True</th>\n",
              "      <td>207</td>\n",
              "    </tr>\n",
              "    <tr>\n",
              "      <th rowspan=\"2\" valign=\"top\">True</th>\n",
              "      <th>False</th>\n",
              "      <td>2511</td>\n",
              "    </tr>\n",
              "    <tr>\n",
              "      <th>True</th>\n",
              "      <td>1984</td>\n",
              "    </tr>\n",
              "  </tbody>\n",
              "</table>\n",
              "</div>"
            ],
            "text/plain": [
              "                    Job Title\n",
              "entry mid   senior           \n",
              "False False False        1599\n",
              "            True          365\n",
              "      True  False        3357\n",
              "            True         1455\n",
              "True  False False         575\n",
              "            True          207\n",
              "      True  False        2511\n",
              "            True         1984"
            ]
          },
          "metadata": {
            "tags": []
          },
          "execution_count": 94
        }
      ]
    },
    {
      "cell_type": "markdown",
      "metadata": {
        "id": "ViJQ6wJLGD2y"
      },
      "source": [
        "Convert remaining -1 to Nan"
      ]
    },
    {
      "cell_type": "code",
      "metadata": {
        "colab": {
          "base_uri": "https://localhost:8080/",
          "height": 638
        },
        "id": "9li2WQEJGDMi",
        "outputId": "0abca2fe-be82-46a6-b912-891858cbbe1e"
      },
      "source": [
        "df.head()"
      ],
      "execution_count": 95,
      "outputs": [
        {
          "output_type": "execute_result",
          "data": {
            "text/html": [
              "<div>\n",
              "<style scoped>\n",
              "    .dataframe tbody tr th:only-of-type {\n",
              "        vertical-align: middle;\n",
              "    }\n",
              "\n",
              "    .dataframe tbody tr th {\n",
              "        vertical-align: top;\n",
              "    }\n",
              "\n",
              "    .dataframe thead th {\n",
              "        text-align: right;\n",
              "    }\n",
              "</style>\n",
              "<table border=\"1\" class=\"dataframe\">\n",
              "  <thead>\n",
              "    <tr style=\"text-align: right;\">\n",
              "      <th></th>\n",
              "      <th>Job Title</th>\n",
              "      <th>Salary Estimate</th>\n",
              "      <th>Job Description</th>\n",
              "      <th>Rating</th>\n",
              "      <th>Company Name</th>\n",
              "      <th>Location</th>\n",
              "      <th>Headquarters</th>\n",
              "      <th>Size</th>\n",
              "      <th>Founded</th>\n",
              "      <th>Type of ownership</th>\n",
              "      <th>Industry</th>\n",
              "      <th>Sector</th>\n",
              "      <th>Revenue</th>\n",
              "      <th>Competitors</th>\n",
              "      <th>Easy Apply</th>\n",
              "      <th>Label</th>\n",
              "      <th>Ordinal Revenue</th>\n",
              "      <th>Ordinal Size</th>\n",
              "      <th>Salary Estimate Beginning Range</th>\n",
              "      <th>Salary Estimate Ending Range</th>\n",
              "      <th>Job Description Length</th>\n",
              "      <th>entry</th>\n",
              "      <th>mid</th>\n",
              "      <th>senior</th>\n",
              "    </tr>\n",
              "  </thead>\n",
              "  <tbody>\n",
              "    <tr>\n",
              "      <th>0</th>\n",
              "      <td>Data Analyst, Center on Immigration and Justic...</td>\n",
              "      <td>$37K-$66K (Glassdoor est.)</td>\n",
              "      <td>are you eager to roll up your sleeves and harn...</td>\n",
              "      <td>3.2</td>\n",
              "      <td>Vera Institute of Justice</td>\n",
              "      <td>New York, NY</td>\n",
              "      <td>New York, NY</td>\n",
              "      <td>201 to 500 employees</td>\n",
              "      <td>1961</td>\n",
              "      <td>Nonprofit Organization</td>\n",
              "      <td>Social Assistance</td>\n",
              "      <td>Non-Profit</td>\n",
              "      <td>$100 to $500 million (USD)</td>\n",
              "      <td>-1</td>\n",
              "      <td>True</td>\n",
              "      <td>Data Analyst</td>\n",
              "      <td>7.0</td>\n",
              "      <td>3.0</td>\n",
              "      <td>37000.0</td>\n",
              "      <td>66000.0</td>\n",
              "      <td>1017</td>\n",
              "      <td>True</td>\n",
              "      <td>True</td>\n",
              "      <td>False</td>\n",
              "    </tr>\n",
              "    <tr>\n",
              "      <th>1</th>\n",
              "      <td>Quality Data Analyst</td>\n",
              "      <td>$37K-$66K (Glassdoor est.)</td>\n",
              "      <td>overview  provides analytical and technical su...</td>\n",
              "      <td>3.8</td>\n",
              "      <td>Visiting Nurse Service of New York</td>\n",
              "      <td>New York, NY</td>\n",
              "      <td>New York, NY</td>\n",
              "      <td>10000+ employees</td>\n",
              "      <td>1893</td>\n",
              "      <td>Nonprofit Organization</td>\n",
              "      <td>Health Care Services &amp; Hospitals</td>\n",
              "      <td>Health Care</td>\n",
              "      <td>$2 to $5 billion (USD)</td>\n",
              "      <td>-1</td>\n",
              "      <td>-1</td>\n",
              "      <td>Data Analyst</td>\n",
              "      <td>10.0</td>\n",
              "      <td>7.0</td>\n",
              "      <td>37000.0</td>\n",
              "      <td>66000.0</td>\n",
              "      <td>613</td>\n",
              "      <td>True</td>\n",
              "      <td>True</td>\n",
              "      <td>False</td>\n",
              "    </tr>\n",
              "    <tr>\n",
              "      <th>2</th>\n",
              "      <td>Senior Data Analyst, Insights &amp; Analytics Team...</td>\n",
              "      <td>$37K-$66K (Glassdoor est.)</td>\n",
              "      <td>we re looking for a senior  who has a love of ...</td>\n",
              "      <td>3.4</td>\n",
              "      <td>Squarespace</td>\n",
              "      <td>New York, NY</td>\n",
              "      <td>New York, NY</td>\n",
              "      <td>1001 to 5000 employees</td>\n",
              "      <td>2003</td>\n",
              "      <td>Company - Private</td>\n",
              "      <td>Internet</td>\n",
              "      <td>Information Technology</td>\n",
              "      <td>Unknown / Non-Applicable</td>\n",
              "      <td>GoDaddy</td>\n",
              "      <td>-1</td>\n",
              "      <td>Data Analyst</td>\n",
              "      <td>NaN</td>\n",
              "      <td>5.0</td>\n",
              "      <td>37000.0</td>\n",
              "      <td>66000.0</td>\n",
              "      <td>709</td>\n",
              "      <td>True</td>\n",
              "      <td>True</td>\n",
              "      <td>True</td>\n",
              "    </tr>\n",
              "    <tr>\n",
              "      <th>3</th>\n",
              "      <td>Data Analyst</td>\n",
              "      <td>$37K-$66K (Glassdoor est.)</td>\n",
              "      <td>requisition numberrr         remote yes we col...</td>\n",
              "      <td>4.1</td>\n",
              "      <td>Celerity</td>\n",
              "      <td>New York, NY</td>\n",
              "      <td>McLean, VA</td>\n",
              "      <td>201 to 500 employees</td>\n",
              "      <td>2002</td>\n",
              "      <td>Subsidiary or Business Segment</td>\n",
              "      <td>IT Services</td>\n",
              "      <td>Information Technology</td>\n",
              "      <td>$50 to $100 million (USD)</td>\n",
              "      <td>-1</td>\n",
              "      <td>-1</td>\n",
              "      <td>Data Analyst</td>\n",
              "      <td>6.0</td>\n",
              "      <td>3.0</td>\n",
              "      <td>37000.0</td>\n",
              "      <td>66000.0</td>\n",
              "      <td>763</td>\n",
              "      <td>False</td>\n",
              "      <td>True</td>\n",
              "      <td>False</td>\n",
              "    </tr>\n",
              "    <tr>\n",
              "      <th>4</th>\n",
              "      <td>Reporting Data Analyst</td>\n",
              "      <td>$37K-$66K (Glassdoor est.)</td>\n",
              "      <td>about fanduel group  fanduel group is a world ...</td>\n",
              "      <td>3.9</td>\n",
              "      <td>FanDuel</td>\n",
              "      <td>New York, NY</td>\n",
              "      <td>New York, NY</td>\n",
              "      <td>501 to 1000 employees</td>\n",
              "      <td>2009</td>\n",
              "      <td>Company - Private</td>\n",
              "      <td>Sports &amp; Recreation</td>\n",
              "      <td>Arts, Entertainment &amp; Recreation</td>\n",
              "      <td>$100 to $500 million (USD)</td>\n",
              "      <td>DraftKings</td>\n",
              "      <td>True</td>\n",
              "      <td>Data Analyst</td>\n",
              "      <td>7.0</td>\n",
              "      <td>4.0</td>\n",
              "      <td>37000.0</td>\n",
              "      <td>66000.0</td>\n",
              "      <td>531</td>\n",
              "      <td>True</td>\n",
              "      <td>False</td>\n",
              "      <td>False</td>\n",
              "    </tr>\n",
              "  </tbody>\n",
              "</table>\n",
              "</div>"
            ],
            "text/plain": [
              "                                           Job Title  ... senior\n",
              "0  Data Analyst, Center on Immigration and Justic...  ...  False\n",
              "1                               Quality Data Analyst  ...  False\n",
              "2  Senior Data Analyst, Insights & Analytics Team...  ...   True\n",
              "3                                       Data Analyst  ...  False\n",
              "4                             Reporting Data Analyst  ...  False\n",
              "\n",
              "[5 rows x 24 columns]"
            ]
          },
          "metadata": {
            "tags": []
          },
          "execution_count": 95
        }
      ]
    },
    {
      "cell_type": "code",
      "metadata": {
        "id": "hnxna0r5GLmW"
      },
      "source": [
        "df['Easy Apply'] = df['Easy Apply'].replace('-1', False)\n",
        "df = df.replace('-1', np.nan)\n",
        "df = df.replace(-1, np.nan)"
      ],
      "execution_count": 96,
      "outputs": []
    },
    {
      "cell_type": "markdown",
      "metadata": {
        "id": "GuQHgrsouG0i"
      },
      "source": [
        "# Next Steps\n",
        "- focus on exploratory analysis/unsupervised methods\n",
        "- extracting useful features from `Job Description`"
      ]
    },
    {
      "cell_type": "markdown",
      "metadata": {
        "id": "yNv_PXp-uG0i"
      },
      "source": [
        "### Map company locations"
      ]
    },
    {
      "cell_type": "code",
      "metadata": {
        "colab": {
          "base_uri": "https://localhost:8080/"
        },
        "id": "cuENmC9QuG0i",
        "outputId": "41a3750b-9e76-476c-e355-5a343d557072"
      },
      "source": [
        "unique_companies = df.drop_duplicates(subset=['Company Name', 'Location', 'Sector']).reset_index(drop=True)\n",
        "unique_locations = unique_companies[\"Location\"].unique()\n",
        "len(unique_locations)"
      ],
      "execution_count": 97,
      "outputs": [
        {
          "output_type": "execute_result",
          "data": {
            "text/plain": [
              "695"
            ]
          },
          "metadata": {
            "tags": []
          },
          "execution_count": 97
        }
      ]
    },
    {
      "cell_type": "code",
      "metadata": {
        "colab": {
          "base_uri": "https://localhost:8080/",
          "height": 623
        },
        "id": "W3-Na7ZAuG0i",
        "outputId": "21308457-6503-4934-c45d-fcaee4da0dc8"
      },
      "source": [
        "# turn each company's location into latitude/longitude coordinates for mapping\n",
        "geolocator = Nominatim(user_agent=\"mapping-application\")\n",
        "\n",
        "latitudes=[]\n",
        "longitudes=[]\n",
        "for i in range(len(unique_locations)):\n",
        "    location_string = unique_locations[i]\n",
        "    if pd.isnull(location_string) or location_string == \"Remote\":\n",
        "        latitudes.append(np.nan)\n",
        "        longitudes.append(np.nan)\n",
        "    else:\n",
        "      location = geolocator.geocode(location_string, exactly_one=True)\n",
        "      if location is None:\n",
        "          latitudes.append(np.nan)\n",
        "          longitudes.append(np.nan)\n",
        "      else:\n",
        "          latitudes.append(location.latitude)\n",
        "          longitudes.append(location.longitude)\n",
        "    if i % 50 == 0:\n",
        "        print(\"Finished\", i)"
      ],
      "execution_count": 99,
      "outputs": [
        {
          "output_type": "stream",
          "text": [
            "Finished 0\n",
            "Finished 50\n",
            "Finished 100\n",
            "Finished 150\n",
            "Finished 200\n",
            "Finished 250\n",
            "Finished 300\n",
            "Finished 350\n",
            "Finished 400\n",
            "Finished 450\n",
            "Finished 500\n"
          ],
          "name": "stdout"
        },
        {
          "output_type": "error",
          "ename": "GeocoderTimedOut",
          "evalue": "ignored",
          "traceback": [
            "\u001b[0;31m---------------------------------------------------------------------------\u001b[0m",
            "\u001b[0;31mtimeout\u001b[0m                                   Traceback (most recent call last)",
            "\u001b[0;32m/usr/local/lib/python3.6/dist-packages/geopy/geocoders/base.py\u001b[0m in \u001b[0;36m_call_geocoder\u001b[0;34m(self, url, timeout, raw, requester, deserializer, **kwargs)\u001b[0m\n\u001b[1;32m    343\u001b[0m         \u001b[0;32mtry\u001b[0m\u001b[0;34m:\u001b[0m\u001b[0;34m\u001b[0m\u001b[0;34m\u001b[0m\u001b[0m\n\u001b[0;32m--> 344\u001b[0;31m             \u001b[0mpage\u001b[0m \u001b[0;34m=\u001b[0m \u001b[0mrequester\u001b[0m\u001b[0;34m(\u001b[0m\u001b[0mreq\u001b[0m\u001b[0;34m,\u001b[0m \u001b[0mtimeout\u001b[0m\u001b[0;34m=\u001b[0m\u001b[0mtimeout\u001b[0m\u001b[0;34m,\u001b[0m \u001b[0;34m**\u001b[0m\u001b[0mkwargs\u001b[0m\u001b[0;34m)\u001b[0m\u001b[0;34m\u001b[0m\u001b[0;34m\u001b[0m\u001b[0m\n\u001b[0m\u001b[1;32m    345\u001b[0m         \u001b[0;32mexcept\u001b[0m \u001b[0mException\u001b[0m \u001b[0;32mas\u001b[0m \u001b[0merror\u001b[0m\u001b[0;34m:\u001b[0m\u001b[0;34m\u001b[0m\u001b[0;34m\u001b[0m\u001b[0m\n",
            "\u001b[0;32m/usr/lib/python3.6/urllib/request.py\u001b[0m in \u001b[0;36mopen\u001b[0;34m(self, fullurl, data, timeout)\u001b[0m\n\u001b[1;32m    525\u001b[0m \u001b[0;34m\u001b[0m\u001b[0m\n\u001b[0;32m--> 526\u001b[0;31m         \u001b[0mresponse\u001b[0m \u001b[0;34m=\u001b[0m \u001b[0mself\u001b[0m\u001b[0;34m.\u001b[0m\u001b[0m_open\u001b[0m\u001b[0;34m(\u001b[0m\u001b[0mreq\u001b[0m\u001b[0;34m,\u001b[0m \u001b[0mdata\u001b[0m\u001b[0;34m)\u001b[0m\u001b[0;34m\u001b[0m\u001b[0;34m\u001b[0m\u001b[0m\n\u001b[0m\u001b[1;32m    527\u001b[0m \u001b[0;34m\u001b[0m\u001b[0m\n",
            "\u001b[0;32m/usr/lib/python3.6/urllib/request.py\u001b[0m in \u001b[0;36m_open\u001b[0;34m(self, req, data)\u001b[0m\n\u001b[1;32m    543\u001b[0m         result = self._call_chain(self.handle_open, protocol, protocol +\n\u001b[0;32m--> 544\u001b[0;31m                                   '_open', req)\n\u001b[0m\u001b[1;32m    545\u001b[0m         \u001b[0;32mif\u001b[0m \u001b[0mresult\u001b[0m\u001b[0;34m:\u001b[0m\u001b[0;34m\u001b[0m\u001b[0;34m\u001b[0m\u001b[0m\n",
            "\u001b[0;32m/usr/lib/python3.6/urllib/request.py\u001b[0m in \u001b[0;36m_call_chain\u001b[0;34m(self, chain, kind, meth_name, *args)\u001b[0m\n\u001b[1;32m    503\u001b[0m             \u001b[0mfunc\u001b[0m \u001b[0;34m=\u001b[0m \u001b[0mgetattr\u001b[0m\u001b[0;34m(\u001b[0m\u001b[0mhandler\u001b[0m\u001b[0;34m,\u001b[0m \u001b[0mmeth_name\u001b[0m\u001b[0;34m)\u001b[0m\u001b[0;34m\u001b[0m\u001b[0;34m\u001b[0m\u001b[0m\n\u001b[0;32m--> 504\u001b[0;31m             \u001b[0mresult\u001b[0m \u001b[0;34m=\u001b[0m \u001b[0mfunc\u001b[0m\u001b[0;34m(\u001b[0m\u001b[0;34m*\u001b[0m\u001b[0margs\u001b[0m\u001b[0;34m)\u001b[0m\u001b[0;34m\u001b[0m\u001b[0;34m\u001b[0m\u001b[0m\n\u001b[0m\u001b[1;32m    505\u001b[0m             \u001b[0;32mif\u001b[0m \u001b[0mresult\u001b[0m \u001b[0;32mis\u001b[0m \u001b[0;32mnot\u001b[0m \u001b[0;32mNone\u001b[0m\u001b[0;34m:\u001b[0m\u001b[0;34m\u001b[0m\u001b[0;34m\u001b[0m\u001b[0m\n",
            "\u001b[0;32m/usr/lib/python3.6/urllib/request.py\u001b[0m in \u001b[0;36mhttps_open\u001b[0;34m(self, req)\u001b[0m\n\u001b[1;32m   1367\u001b[0m             return self.do_open(http.client.HTTPSConnection, req,\n\u001b[0;32m-> 1368\u001b[0;31m                 context=self._context, check_hostname=self._check_hostname)\n\u001b[0m\u001b[1;32m   1369\u001b[0m \u001b[0;34m\u001b[0m\u001b[0m\n",
            "\u001b[0;32m/usr/lib/python3.6/urllib/request.py\u001b[0m in \u001b[0;36mdo_open\u001b[0;34m(self, http_class, req, **http_conn_args)\u001b[0m\n\u001b[1;32m   1327\u001b[0m                 \u001b[0;32mraise\u001b[0m \u001b[0mURLError\u001b[0m\u001b[0;34m(\u001b[0m\u001b[0merr\u001b[0m\u001b[0;34m)\u001b[0m\u001b[0;34m\u001b[0m\u001b[0;34m\u001b[0m\u001b[0m\n\u001b[0;32m-> 1328\u001b[0;31m             \u001b[0mr\u001b[0m \u001b[0;34m=\u001b[0m \u001b[0mh\u001b[0m\u001b[0;34m.\u001b[0m\u001b[0mgetresponse\u001b[0m\u001b[0;34m(\u001b[0m\u001b[0;34m)\u001b[0m\u001b[0;34m\u001b[0m\u001b[0;34m\u001b[0m\u001b[0m\n\u001b[0m\u001b[1;32m   1329\u001b[0m         \u001b[0;32mexcept\u001b[0m\u001b[0;34m:\u001b[0m\u001b[0;34m\u001b[0m\u001b[0;34m\u001b[0m\u001b[0m\n",
            "\u001b[0;32m/usr/lib/python3.6/http/client.py\u001b[0m in \u001b[0;36mgetresponse\u001b[0;34m(self)\u001b[0m\n\u001b[1;32m   1372\u001b[0m             \u001b[0;32mtry\u001b[0m\u001b[0;34m:\u001b[0m\u001b[0;34m\u001b[0m\u001b[0;34m\u001b[0m\u001b[0m\n\u001b[0;32m-> 1373\u001b[0;31m                 \u001b[0mresponse\u001b[0m\u001b[0;34m.\u001b[0m\u001b[0mbegin\u001b[0m\u001b[0;34m(\u001b[0m\u001b[0;34m)\u001b[0m\u001b[0;34m\u001b[0m\u001b[0;34m\u001b[0m\u001b[0m\n\u001b[0m\u001b[1;32m   1374\u001b[0m             \u001b[0;32mexcept\u001b[0m \u001b[0mConnectionError\u001b[0m\u001b[0;34m:\u001b[0m\u001b[0;34m\u001b[0m\u001b[0;34m\u001b[0m\u001b[0m\n",
            "\u001b[0;32m/usr/lib/python3.6/http/client.py\u001b[0m in \u001b[0;36mbegin\u001b[0;34m(self)\u001b[0m\n\u001b[1;32m    310\u001b[0m         \u001b[0;32mwhile\u001b[0m \u001b[0;32mTrue\u001b[0m\u001b[0;34m:\u001b[0m\u001b[0;34m\u001b[0m\u001b[0;34m\u001b[0m\u001b[0m\n\u001b[0;32m--> 311\u001b[0;31m             \u001b[0mversion\u001b[0m\u001b[0;34m,\u001b[0m \u001b[0mstatus\u001b[0m\u001b[0;34m,\u001b[0m \u001b[0mreason\u001b[0m \u001b[0;34m=\u001b[0m \u001b[0mself\u001b[0m\u001b[0;34m.\u001b[0m\u001b[0m_read_status\u001b[0m\u001b[0;34m(\u001b[0m\u001b[0;34m)\u001b[0m\u001b[0;34m\u001b[0m\u001b[0;34m\u001b[0m\u001b[0m\n\u001b[0m\u001b[1;32m    312\u001b[0m             \u001b[0;32mif\u001b[0m \u001b[0mstatus\u001b[0m \u001b[0;34m!=\u001b[0m \u001b[0mCONTINUE\u001b[0m\u001b[0;34m:\u001b[0m\u001b[0;34m\u001b[0m\u001b[0;34m\u001b[0m\u001b[0m\n",
            "\u001b[0;32m/usr/lib/python3.6/http/client.py\u001b[0m in \u001b[0;36m_read_status\u001b[0;34m(self)\u001b[0m\n\u001b[1;32m    271\u001b[0m     \u001b[0;32mdef\u001b[0m \u001b[0m_read_status\u001b[0m\u001b[0;34m(\u001b[0m\u001b[0mself\u001b[0m\u001b[0;34m)\u001b[0m\u001b[0;34m:\u001b[0m\u001b[0;34m\u001b[0m\u001b[0;34m\u001b[0m\u001b[0m\n\u001b[0;32m--> 272\u001b[0;31m         \u001b[0mline\u001b[0m \u001b[0;34m=\u001b[0m \u001b[0mstr\u001b[0m\u001b[0;34m(\u001b[0m\u001b[0mself\u001b[0m\u001b[0;34m.\u001b[0m\u001b[0mfp\u001b[0m\u001b[0;34m.\u001b[0m\u001b[0mreadline\u001b[0m\u001b[0;34m(\u001b[0m\u001b[0m_MAXLINE\u001b[0m \u001b[0;34m+\u001b[0m \u001b[0;36m1\u001b[0m\u001b[0;34m)\u001b[0m\u001b[0;34m,\u001b[0m \u001b[0;34m\"iso-8859-1\"\u001b[0m\u001b[0;34m)\u001b[0m\u001b[0;34m\u001b[0m\u001b[0;34m\u001b[0m\u001b[0m\n\u001b[0m\u001b[1;32m    273\u001b[0m         \u001b[0;32mif\u001b[0m \u001b[0mlen\u001b[0m\u001b[0;34m(\u001b[0m\u001b[0mline\u001b[0m\u001b[0;34m)\u001b[0m \u001b[0;34m>\u001b[0m \u001b[0m_MAXLINE\u001b[0m\u001b[0;34m:\u001b[0m\u001b[0;34m\u001b[0m\u001b[0;34m\u001b[0m\u001b[0m\n",
            "\u001b[0;32m/usr/lib/python3.6/socket.py\u001b[0m in \u001b[0;36mreadinto\u001b[0;34m(self, b)\u001b[0m\n\u001b[1;32m    585\u001b[0m             \u001b[0;32mtry\u001b[0m\u001b[0;34m:\u001b[0m\u001b[0;34m\u001b[0m\u001b[0;34m\u001b[0m\u001b[0m\n\u001b[0;32m--> 586\u001b[0;31m                 \u001b[0;32mreturn\u001b[0m \u001b[0mself\u001b[0m\u001b[0;34m.\u001b[0m\u001b[0m_sock\u001b[0m\u001b[0;34m.\u001b[0m\u001b[0mrecv_into\u001b[0m\u001b[0;34m(\u001b[0m\u001b[0mb\u001b[0m\u001b[0;34m)\u001b[0m\u001b[0;34m\u001b[0m\u001b[0;34m\u001b[0m\u001b[0m\n\u001b[0m\u001b[1;32m    587\u001b[0m             \u001b[0;32mexcept\u001b[0m \u001b[0mtimeout\u001b[0m\u001b[0;34m:\u001b[0m\u001b[0;34m\u001b[0m\u001b[0;34m\u001b[0m\u001b[0m\n",
            "\u001b[0;32m/usr/lib/python3.6/ssl.py\u001b[0m in \u001b[0;36mrecv_into\u001b[0;34m(self, buffer, nbytes, flags)\u001b[0m\n\u001b[1;32m   1011\u001b[0m                   self.__class__)\n\u001b[0;32m-> 1012\u001b[0;31m             \u001b[0;32mreturn\u001b[0m \u001b[0mself\u001b[0m\u001b[0;34m.\u001b[0m\u001b[0mread\u001b[0m\u001b[0;34m(\u001b[0m\u001b[0mnbytes\u001b[0m\u001b[0;34m,\u001b[0m \u001b[0mbuffer\u001b[0m\u001b[0;34m)\u001b[0m\u001b[0;34m\u001b[0m\u001b[0;34m\u001b[0m\u001b[0m\n\u001b[0m\u001b[1;32m   1013\u001b[0m         \u001b[0;32melse\u001b[0m\u001b[0;34m:\u001b[0m\u001b[0;34m\u001b[0m\u001b[0;34m\u001b[0m\u001b[0m\n",
            "\u001b[0;32m/usr/lib/python3.6/ssl.py\u001b[0m in \u001b[0;36mread\u001b[0;34m(self, len, buffer)\u001b[0m\n\u001b[1;32m    873\u001b[0m         \u001b[0;32mtry\u001b[0m\u001b[0;34m:\u001b[0m\u001b[0;34m\u001b[0m\u001b[0;34m\u001b[0m\u001b[0m\n\u001b[0;32m--> 874\u001b[0;31m             \u001b[0;32mreturn\u001b[0m \u001b[0mself\u001b[0m\u001b[0;34m.\u001b[0m\u001b[0m_sslobj\u001b[0m\u001b[0;34m.\u001b[0m\u001b[0mread\u001b[0m\u001b[0;34m(\u001b[0m\u001b[0mlen\u001b[0m\u001b[0;34m,\u001b[0m \u001b[0mbuffer\u001b[0m\u001b[0;34m)\u001b[0m\u001b[0;34m\u001b[0m\u001b[0;34m\u001b[0m\u001b[0m\n\u001b[0m\u001b[1;32m    875\u001b[0m         \u001b[0;32mexcept\u001b[0m \u001b[0mSSLError\u001b[0m \u001b[0;32mas\u001b[0m \u001b[0mx\u001b[0m\u001b[0;34m:\u001b[0m\u001b[0;34m\u001b[0m\u001b[0;34m\u001b[0m\u001b[0m\n",
            "\u001b[0;32m/usr/lib/python3.6/ssl.py\u001b[0m in \u001b[0;36mread\u001b[0;34m(self, len, buffer)\u001b[0m\n\u001b[1;32m    630\u001b[0m         \u001b[0;32mif\u001b[0m \u001b[0mbuffer\u001b[0m \u001b[0;32mis\u001b[0m \u001b[0;32mnot\u001b[0m \u001b[0;32mNone\u001b[0m\u001b[0;34m:\u001b[0m\u001b[0;34m\u001b[0m\u001b[0;34m\u001b[0m\u001b[0m\n\u001b[0;32m--> 631\u001b[0;31m             \u001b[0mv\u001b[0m \u001b[0;34m=\u001b[0m \u001b[0mself\u001b[0m\u001b[0;34m.\u001b[0m\u001b[0m_sslobj\u001b[0m\u001b[0;34m.\u001b[0m\u001b[0mread\u001b[0m\u001b[0;34m(\u001b[0m\u001b[0mlen\u001b[0m\u001b[0;34m,\u001b[0m \u001b[0mbuffer\u001b[0m\u001b[0;34m)\u001b[0m\u001b[0;34m\u001b[0m\u001b[0;34m\u001b[0m\u001b[0m\n\u001b[0m\u001b[1;32m    632\u001b[0m         \u001b[0;32melse\u001b[0m\u001b[0;34m:\u001b[0m\u001b[0;34m\u001b[0m\u001b[0;34m\u001b[0m\u001b[0m\n",
            "\u001b[0;31mtimeout\u001b[0m: The read operation timed out",
            "\nDuring handling of the above exception, another exception occurred:\n",
            "\u001b[0;31mGeocoderTimedOut\u001b[0m                          Traceback (most recent call last)",
            "\u001b[0;32m<ipython-input-99-b6a27d60d185>\u001b[0m in \u001b[0;36m<module>\u001b[0;34m()\u001b[0m\n\u001b[1;32m     10\u001b[0m         \u001b[0mlongitudes\u001b[0m\u001b[0;34m.\u001b[0m\u001b[0mappend\u001b[0m\u001b[0;34m(\u001b[0m\u001b[0mnp\u001b[0m\u001b[0;34m.\u001b[0m\u001b[0mnan\u001b[0m\u001b[0;34m)\u001b[0m\u001b[0;34m\u001b[0m\u001b[0;34m\u001b[0m\u001b[0m\n\u001b[1;32m     11\u001b[0m     \u001b[0;32melse\u001b[0m\u001b[0;34m:\u001b[0m\u001b[0;34m\u001b[0m\u001b[0;34m\u001b[0m\u001b[0m\n\u001b[0;32m---> 12\u001b[0;31m       \u001b[0mlocation\u001b[0m \u001b[0;34m=\u001b[0m \u001b[0mgeolocator\u001b[0m\u001b[0;34m.\u001b[0m\u001b[0mgeocode\u001b[0m\u001b[0;34m(\u001b[0m\u001b[0mlocation_string\u001b[0m\u001b[0;34m,\u001b[0m \u001b[0mexactly_one\u001b[0m\u001b[0;34m=\u001b[0m\u001b[0;32mTrue\u001b[0m\u001b[0;34m)\u001b[0m\u001b[0;34m\u001b[0m\u001b[0;34m\u001b[0m\u001b[0m\n\u001b[0m\u001b[1;32m     13\u001b[0m       \u001b[0;32mif\u001b[0m \u001b[0mlocation\u001b[0m \u001b[0;32mis\u001b[0m \u001b[0;32mNone\u001b[0m\u001b[0;34m:\u001b[0m\u001b[0;34m\u001b[0m\u001b[0;34m\u001b[0m\u001b[0m\n\u001b[1;32m     14\u001b[0m           \u001b[0mlatitudes\u001b[0m\u001b[0;34m.\u001b[0m\u001b[0mappend\u001b[0m\u001b[0;34m(\u001b[0m\u001b[0mnp\u001b[0m\u001b[0;34m.\u001b[0m\u001b[0mnan\u001b[0m\u001b[0;34m)\u001b[0m\u001b[0;34m\u001b[0m\u001b[0;34m\u001b[0m\u001b[0m\n",
            "\u001b[0;32m/usr/local/lib/python3.6/dist-packages/geopy/geocoders/osm.py\u001b[0m in \u001b[0;36mgeocode\u001b[0;34m(self, query, exactly_one, timeout, limit, addressdetails, language, geometry, extratags)\u001b[0m\n\u001b[1;32m    305\u001b[0m \u001b[0;34m\u001b[0m\u001b[0m\n\u001b[1;32m    306\u001b[0m         return self._parse_json(\n\u001b[0;32m--> 307\u001b[0;31m             \u001b[0mself\u001b[0m\u001b[0;34m.\u001b[0m\u001b[0m_call_geocoder\u001b[0m\u001b[0;34m(\u001b[0m\u001b[0murl\u001b[0m\u001b[0;34m,\u001b[0m \u001b[0mtimeout\u001b[0m\u001b[0;34m=\u001b[0m\u001b[0mtimeout\u001b[0m\u001b[0;34m)\u001b[0m\u001b[0;34m,\u001b[0m \u001b[0mexactly_one\u001b[0m\u001b[0;34m\u001b[0m\u001b[0;34m\u001b[0m\u001b[0m\n\u001b[0m\u001b[1;32m    308\u001b[0m         )\n\u001b[1;32m    309\u001b[0m \u001b[0;34m\u001b[0m\u001b[0m\n",
            "\u001b[0;32m/usr/local/lib/python3.6/dist-packages/geopy/geocoders/base.py\u001b[0m in \u001b[0;36m_call_geocoder\u001b[0;34m(self, url, timeout, raw, requester, deserializer, **kwargs)\u001b[0m\n\u001b[1;32m    369\u001b[0m                     \u001b[0;32mraise\u001b[0m \u001b[0mGeocoderUnavailable\u001b[0m\u001b[0;34m(\u001b[0m\u001b[0;34m'Service not available'\u001b[0m\u001b[0;34m)\u001b[0m\u001b[0;34m\u001b[0m\u001b[0;34m\u001b[0m\u001b[0m\n\u001b[1;32m    370\u001b[0m             \u001b[0;32melif\u001b[0m \u001b[0misinstance\u001b[0m\u001b[0;34m(\u001b[0m\u001b[0merror\u001b[0m\u001b[0;34m,\u001b[0m \u001b[0mSocketTimeout\u001b[0m\u001b[0;34m)\u001b[0m\u001b[0;34m:\u001b[0m\u001b[0;34m\u001b[0m\u001b[0;34m\u001b[0m\u001b[0m\n\u001b[0;32m--> 371\u001b[0;31m                 \u001b[0;32mraise\u001b[0m \u001b[0mGeocoderTimedOut\u001b[0m\u001b[0;34m(\u001b[0m\u001b[0;34m'Service timed out'\u001b[0m\u001b[0;34m)\u001b[0m\u001b[0;34m\u001b[0m\u001b[0;34m\u001b[0m\u001b[0m\n\u001b[0m\u001b[1;32m    372\u001b[0m             \u001b[0;32melif\u001b[0m \u001b[0misinstance\u001b[0m\u001b[0;34m(\u001b[0m\u001b[0merror\u001b[0m\u001b[0;34m,\u001b[0m \u001b[0mSSLError\u001b[0m\u001b[0;34m)\u001b[0m\u001b[0;34m:\u001b[0m\u001b[0;34m\u001b[0m\u001b[0;34m\u001b[0m\u001b[0m\n\u001b[1;32m    373\u001b[0m                 \u001b[0;32mif\u001b[0m \u001b[0;34m\"timed out\"\u001b[0m \u001b[0;32min\u001b[0m \u001b[0mmessage\u001b[0m\u001b[0;34m:\u001b[0m\u001b[0;34m\u001b[0m\u001b[0;34m\u001b[0m\u001b[0m\n",
            "\u001b[0;31mGeocoderTimedOut\u001b[0m: Service timed out"
          ]
        }
      ]
    },
    {
      "cell_type": "code",
      "metadata": {
        "id": "Rkhc3dv9uG0i"
      },
      "source": [
        "location_coords = pd.DataFrame({\"location\": unique_locations, \"latitude\": latitudes, \"longitude\": longitudes})\n",
        "location_coords.head()"
      ],
      "execution_count": null,
      "outputs": []
    },
    {
      "cell_type": "code",
      "metadata": {
        "id": "nxGnph9lL_LU"
      },
      "source": [
        "# create a map for company locations\n",
        "us_center = [39.8283, -98.5795]\n",
        "location_map = folium.Map(location=us_center, tiles=\"OpenStreetMap\", zoom_start=5)\n",
        "\n",
        "# make a marker for each company location\n",
        "for i in range(len(unique_locations)):\n",
        "    coordinates = [location_coords.loc[i, 'latitude'], location_coords.loc[i, 'longitude']]\n",
        "    if np.sum(np.isnan(coordinates)) > 0:\n",
        "        continue\n",
        "    popup = location_coords.loc[i, \"location\"]\n",
        "    folium.Marker(location=coordinates, popup=popup, \n",
        "                  icon=folium.Icon(color=\"red\", icon=\"building\")).add_to(location_map)\n",
        "    \n",
        "# show the map\n",
        "location_map"
      ],
      "execution_count": null,
      "outputs": []
    },
    {
      "cell_type": "markdown",
      "metadata": {
        "id": "tTTfzUYXfSdX"
      },
      "source": [
        "Salary by Job Type"
      ]
    },
    {
      "cell_type": "code",
      "metadata": {
        "id": "3Wqvx6m_fRXA"
      },
      "source": [
        "plt.figure(figsize = (10,8))\n",
        "sns.displot(data=df,x = 'Salary Estimate Beginning Range', hue = 'Label', kind= 'kde')\n",
        "plt.title('Salary Min Estimate for Data Jobs')\n",
        "plt.xlabel('Salary Min Estimate')\n",
        "plt.show()"
      ],
      "execution_count": null,
      "outputs": []
    },
    {
      "cell_type": "markdown",
      "metadata": {
        "id": "-IgD_tWAettt"
      },
      "source": [
        "Job Description Length by Job Type"
      ]
    },
    {
      "cell_type": "code",
      "metadata": {
        "id": "TDyUw5r0er8y"
      },
      "source": [
        "plt.figure(figsize = (10,8))\n",
        "sns.displot(data=df,x = 'Job Description Length', hue = 'Label', kind= 'kde')\n",
        "plt.title('Job Description Length for Data Jobs')\n",
        "plt.xlabel('Job Description Length')\n",
        "plt.show()"
      ],
      "execution_count": null,
      "outputs": []
    },
    {
      "cell_type": "markdown",
      "metadata": {
        "id": "NnDjK97_xyyl"
      },
      "source": [
        "Stemming and Lemmatization"
      ]
    },
    {
      "cell_type": "code",
      "metadata": {
        "id": "twmUbBWbvBaV"
      },
      "source": [
        "lemmmatizer=WordNetLemmatizer()\n",
        "lem_job = []\n",
        "for k in range(df.shape[0]):\n",
        "  sentences = df['Job Description'][k]\n",
        "  words=word_tokenize(sentences)\n",
        "  #List comprehension\n",
        "  words = [lemmmatizer.lemmatize(word.lower()) for word in words if word not in set(stopwords.words('english'))]\n",
        "  lem_sentences=' '.join(words)\n",
        "  lem_job.append(lem_sentences)\n",
        "df['Job Description Lem'] = lem_job"
      ],
      "execution_count": null,
      "outputs": []
    },
    {
      "cell_type": "code",
      "metadata": {
        "id": "9dtIG3oMQiUS"
      },
      "source": [
        ""
      ],
      "execution_count": null,
      "outputs": []
    },
    {
      "cell_type": "markdown",
      "metadata": {
        "id": "wMT2Y20PO0Xj"
      },
      "source": [
        "Converting Categorical Variables into Dummies"
      ]
    },
    {
      "cell_type": "code",
      "metadata": {
        "id": "CM6dcTReQHpE"
      },
      "source": [
        "df[['Label','Location']].value_counts()[:10]"
      ],
      "execution_count": null,
      "outputs": []
    },
    {
      "cell_type": "code",
      "metadata": {
        "id": "J1RA0qT_QTP0"
      },
      "source": [
        "df[['Label','Sector']].value_counts()[:10]"
      ],
      "execution_count": null,
      "outputs": []
    },
    {
      "cell_type": "code",
      "metadata": {
        "id": "EbEcDIutfvPB"
      },
      "source": [
        "# years the company has existed\n",
        "df['Years'] = 2020 - df['Founded'].astype('Int64')"
      ],
      "execution_count": null,
      "outputs": []
    },
    {
      "cell_type": "code",
      "metadata": {
        "id": "J02v5QtMO0zM"
      },
      "source": [
        "categorical = ['Sector']\n",
        "numerical = df[['Rating','Years',\n",
        "             'Salary Estimate Beginning Range', 'Job Description Length']]\n",
        "normalized_num = (numerical-numerical.min())/(numerical.max()-numerical.min())\n",
        "normalized_num['Scaled Revenue'] = (df['Ordinal Revenue'] - 1)/11\n",
        "normalized_num['Scaled_Size'] = (df['Ordinal Size'] - 1)/6\n",
        "\n",
        "dummied = pd.get_dummies(df[categorical])\n",
        "df_new = pd.concat([normalized_num, dummied, df['Job Description Lem']], axis = 1)\n",
        "df_new.head()\n"
      ],
      "execution_count": null,
      "outputs": []
    },
    {
      "cell_type": "code",
      "metadata": {
        "id": "vTaUyWYKca0a"
      },
      "source": [
        ""
      ],
      "execution_count": null,
      "outputs": []
    },
    {
      "cell_type": "code",
      "metadata": {
        "id": "j0GfpH_wYkG-"
      },
      "source": [
        "df_matrix = np.matrix(df_new.values)"
      ],
      "execution_count": null,
      "outputs": []
    },
    {
      "cell_type": "code",
      "metadata": {
        "id": "5SuQ0WpcGfbo"
      },
      "source": [
        "df_new['Label'] = df['Label']"
      ],
      "execution_count": null,
      "outputs": []
    },
    {
      "cell_type": "code",
      "metadata": {
        "id": "V8rHNQyAYzCP"
      },
      "source": [
        "df_new.to_csv('./classify_jobs.csv', index = False)"
      ],
      "execution_count": null,
      "outputs": []
    },
    {
      "cell_type": "code",
      "metadata": {
        "id": "wel_nWxPgJrJ"
      },
      "source": [
        ""
      ],
      "execution_count": null,
      "outputs": []
    }
  ]
}