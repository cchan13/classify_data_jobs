{
 "cells": [
  {
   "cell_type": "code",
   "execution_count": 19,
   "metadata": {
    "colab": {
     "base_uri": "https://localhost:8080/"
    },
    "id": "KZ_AQjJxDuCY",
    "outputId": "201b69ee-bdfc-4d51-d6e5-f283084906a6"
   },
   "outputs": [],
   "source": [
    "import pandas as pd\n",
    "import numpy as np\n",
    "from scipy import sparse \n",
    "import seaborn as sns\n",
    "import matplotlib.pyplot as plt\n",
    "%matplotlib inline\n",
    "from sklearn.feature_extraction.text import TfidfVectorizer\n",
    "from sklearn.model_selection import train_test_split\n",
    "from sklearn.tree import DecisionTreeClassifier\n",
    "from sklearn import tree\n",
    "from sklearn.ensemble import RandomForestClassifier\n",
    "from sklearn.naive_bayes import MultinomialNB\n",
    "from sklearn.cluster import KMeans \n",
    "#!pip install pyLDAvis\n",
    "import pyLDAvis\n",
    "import pyLDAvis.gensim\n",
    "#!pip install gensim\n",
    "import gensim\n",
    "import warnings\n",
    "warnings.filterwarnings('ignore')"
   ]
  },
  {
   "cell_type": "markdown",
   "metadata": {
    "id": "elr236zpfZgm"
   },
   "source": [
    "Load the data"
   ]
  },
  {
   "cell_type": "code",
   "execution_count": 2,
   "metadata": {
    "colab": {
     "base_uri": "https://localhost:8080/",
     "height": 638
    },
    "id": "9zAWrHRYD_ol",
    "outputId": "f001f744-efe0-43e7-cc05-7162fbbb3be2"
   },
   "outputs": [
    {
     "data": {
      "text/html": [
       "<div>\n",
       "<style scoped>\n",
       "    .dataframe tbody tr th:only-of-type {\n",
       "        vertical-align: middle;\n",
       "    }\n",
       "\n",
       "    .dataframe tbody tr th {\n",
       "        vertical-align: top;\n",
       "    }\n",
       "\n",
       "    .dataframe thead th {\n",
       "        text-align: right;\n",
       "    }\n",
       "</style>\n",
       "<table border=\"1\" class=\"dataframe\">\n",
       "  <thead>\n",
       "    <tr style=\"text-align: right;\">\n",
       "      <th></th>\n",
       "      <th>Rating</th>\n",
       "      <th>Years</th>\n",
       "      <th>Salary Estimate Beginning Range</th>\n",
       "      <th>Job Description Length</th>\n",
       "      <th>Scaled Revenue</th>\n",
       "      <th>Scaled_Size</th>\n",
       "      <th>Sector_Accounting &amp; Legal</th>\n",
       "      <th>Sector_Aerospace &amp; Defense</th>\n",
       "      <th>Sector_Agriculture &amp; Forestry</th>\n",
       "      <th>Sector_Arts, Entertainment &amp; Recreation</th>\n",
       "      <th>...</th>\n",
       "      <th>Sector_Non-Profit</th>\n",
       "      <th>Sector_Oil, Gas, Energy &amp; Utilities</th>\n",
       "      <th>Sector_Real Estate</th>\n",
       "      <th>Sector_Restaurants, Bars &amp; Food Services</th>\n",
       "      <th>Sector_Retail</th>\n",
       "      <th>Sector_Telecommunications</th>\n",
       "      <th>Sector_Transportation &amp; Logistics</th>\n",
       "      <th>Sector_Travel &amp; Tourism</th>\n",
       "      <th>Job Description Lem</th>\n",
       "      <th>Label</th>\n",
       "    </tr>\n",
       "  </thead>\n",
       "  <tbody>\n",
       "    <tr>\n",
       "      <th>0</th>\n",
       "      <td>0.550</td>\n",
       "      <td>0.149367</td>\n",
       "      <td>0.132979</td>\n",
       "      <td>0.336867</td>\n",
       "      <td>0.545455</td>\n",
       "      <td>0.333333</td>\n",
       "      <td>0</td>\n",
       "      <td>0</td>\n",
       "      <td>0</td>\n",
       "      <td>0</td>\n",
       "      <td>...</td>\n",
       "      <td>1</td>\n",
       "      <td>0</td>\n",
       "      <td>0</td>\n",
       "      <td>0</td>\n",
       "      <td>0</td>\n",
       "      <td>0</td>\n",
       "      <td>0</td>\n",
       "      <td>0</td>\n",
       "      <td>eager roll sleeve harness data drive policy ch...</td>\n",
       "      <td>Data Analyst</td>\n",
       "    </tr>\n",
       "    <tr>\n",
       "      <th>1</th>\n",
       "      <td>0.700</td>\n",
       "      <td>0.321519</td>\n",
       "      <td>0.132979</td>\n",
       "      <td>0.203047</td>\n",
       "      <td>0.818182</td>\n",
       "      <td>1.000000</td>\n",
       "      <td>0</td>\n",
       "      <td>0</td>\n",
       "      <td>0</td>\n",
       "      <td>0</td>\n",
       "      <td>...</td>\n",
       "      <td>0</td>\n",
       "      <td>0</td>\n",
       "      <td>0</td>\n",
       "      <td>0</td>\n",
       "      <td>0</td>\n",
       "      <td>0</td>\n",
       "      <td>0</td>\n",
       "      <td>0</td>\n",
       "      <td>overview provides analytical technical support...</td>\n",
       "      <td>Data Analyst</td>\n",
       "    </tr>\n",
       "    <tr>\n",
       "      <th>2</th>\n",
       "      <td>0.600</td>\n",
       "      <td>0.043038</td>\n",
       "      <td>0.132979</td>\n",
       "      <td>0.234846</td>\n",
       "      <td>NaN</td>\n",
       "      <td>0.666667</td>\n",
       "      <td>0</td>\n",
       "      <td>0</td>\n",
       "      <td>0</td>\n",
       "      <td>0</td>\n",
       "      <td>...</td>\n",
       "      <td>0</td>\n",
       "      <td>0</td>\n",
       "      <td>0</td>\n",
       "      <td>0</td>\n",
       "      <td>0</td>\n",
       "      <td>0</td>\n",
       "      <td>0</td>\n",
       "      <td>0</td>\n",
       "      <td>looking senior love mentorship data visualizat...</td>\n",
       "      <td>Data Analyst</td>\n",
       "    </tr>\n",
       "    <tr>\n",
       "      <th>3</th>\n",
       "      <td>0.775</td>\n",
       "      <td>0.045570</td>\n",
       "      <td>0.132979</td>\n",
       "      <td>0.252733</td>\n",
       "      <td>0.454545</td>\n",
       "      <td>0.333333</td>\n",
       "      <td>0</td>\n",
       "      <td>0</td>\n",
       "      <td>0</td>\n",
       "      <td>0</td>\n",
       "      <td>...</td>\n",
       "      <td>0</td>\n",
       "      <td>0</td>\n",
       "      <td>0</td>\n",
       "      <td>0</td>\n",
       "      <td>0</td>\n",
       "      <td>0</td>\n",
       "      <td>0</td>\n",
       "      <td>0</td>\n",
       "      <td>requisition numberrr remote yes collaborate cr...</td>\n",
       "      <td>Data Analyst</td>\n",
       "    </tr>\n",
       "    <tr>\n",
       "      <th>4</th>\n",
       "      <td>0.725</td>\n",
       "      <td>0.027848</td>\n",
       "      <td>0.132979</td>\n",
       "      <td>0.175886</td>\n",
       "      <td>0.545455</td>\n",
       "      <td>0.500000</td>\n",
       "      <td>0</td>\n",
       "      <td>0</td>\n",
       "      <td>0</td>\n",
       "      <td>1</td>\n",
       "      <td>...</td>\n",
       "      <td>0</td>\n",
       "      <td>0</td>\n",
       "      <td>0</td>\n",
       "      <td>0</td>\n",
       "      <td>0</td>\n",
       "      <td>0</td>\n",
       "      <td>0</td>\n",
       "      <td>0</td>\n",
       "      <td>fanduel group fanduel group world class team b...</td>\n",
       "      <td>Data Analyst</td>\n",
       "    </tr>\n",
       "  </tbody>\n",
       "</table>\n",
       "<p>5 rows × 33 columns</p>\n",
       "</div>"
      ],
      "text/plain": [
       "   Rating     Years  Salary Estimate Beginning Range  Job Description Length  \\\n",
       "0   0.550  0.149367                         0.132979                0.336867   \n",
       "1   0.700  0.321519                         0.132979                0.203047   \n",
       "2   0.600  0.043038                         0.132979                0.234846   \n",
       "3   0.775  0.045570                         0.132979                0.252733   \n",
       "4   0.725  0.027848                         0.132979                0.175886   \n",
       "\n",
       "   Scaled Revenue  Scaled_Size  Sector_Accounting & Legal  \\\n",
       "0        0.545455     0.333333                          0   \n",
       "1        0.818182     1.000000                          0   \n",
       "2             NaN     0.666667                          0   \n",
       "3        0.454545     0.333333                          0   \n",
       "4        0.545455     0.500000                          0   \n",
       "\n",
       "   Sector_Aerospace & Defense  Sector_Agriculture & Forestry  \\\n",
       "0                           0                              0   \n",
       "1                           0                              0   \n",
       "2                           0                              0   \n",
       "3                           0                              0   \n",
       "4                           0                              0   \n",
       "\n",
       "   Sector_Arts, Entertainment & Recreation  ...  Sector_Non-Profit  \\\n",
       "0                                        0  ...                  1   \n",
       "1                                        0  ...                  0   \n",
       "2                                        0  ...                  0   \n",
       "3                                        0  ...                  0   \n",
       "4                                        1  ...                  0   \n",
       "\n",
       "   Sector_Oil, Gas, Energy & Utilities  Sector_Real Estate  \\\n",
       "0                                    0                   0   \n",
       "1                                    0                   0   \n",
       "2                                    0                   0   \n",
       "3                                    0                   0   \n",
       "4                                    0                   0   \n",
       "\n",
       "   Sector_Restaurants, Bars & Food Services  Sector_Retail  \\\n",
       "0                                         0              0   \n",
       "1                                         0              0   \n",
       "2                                         0              0   \n",
       "3                                         0              0   \n",
       "4                                         0              0   \n",
       "\n",
       "   Sector_Telecommunications  Sector_Transportation & Logistics  \\\n",
       "0                          0                                  0   \n",
       "1                          0                                  0   \n",
       "2                          0                                  0   \n",
       "3                          0                                  0   \n",
       "4                          0                                  0   \n",
       "\n",
       "   Sector_Travel & Tourism                                Job Description Lem  \\\n",
       "0                        0  eager roll sleeve harness data drive policy ch...   \n",
       "1                        0  overview provides analytical technical support...   \n",
       "2                        0  looking senior love mentorship data visualizat...   \n",
       "3                        0  requisition numberrr remote yes collaborate cr...   \n",
       "4                        0  fanduel group fanduel group world class team b...   \n",
       "\n",
       "          Label  \n",
       "0  Data Analyst  \n",
       "1  Data Analyst  \n",
       "2  Data Analyst  \n",
       "3  Data Analyst  \n",
       "4  Data Analyst  \n",
       "\n",
       "[5 rows x 33 columns]"
      ]
     },
     "execution_count": 2,
     "metadata": {},
     "output_type": "execute_result"
    }
   ],
   "source": [
    "df_raw = pd.read_csv('./data/classify_jobs.csv')\n",
    "df_raw.head()"
   ]
  },
  {
   "cell_type": "markdown",
   "metadata": {
    "id": "0D-V-eeUfdb2"
   },
   "source": [
    "Creating Training and Test Datasets"
   ]
  },
  {
   "cell_type": "code",
   "execution_count": 3,
   "metadata": {
    "id": "pZ-uAIWrGS0-"
   },
   "outputs": [],
   "source": [
    "# shuffle the rows  and take out the na for job description\n",
    "df_raw = df_raw[~df_raw['Job Description Lem'].isna()]\n",
    "df = df_raw.sample(frac=1, random_state= 13).reset_index(drop=True)\n",
    "# drops the label\n",
    "df_no_label = np.matrix(df.drop(columns = ['Label']))\n",
    "label = df['Label']\n",
    "\n",
    "X_train_raw, X_test_raw, y_train_raw, y_test = train_test_split(df_no_label, label, test_size=0.1, random_state=42)\n",
    "X_train_raw, X_val_raw, y_train, y_val = train_test_split(X_train_raw, y_train_raw, test_size=0.2, random_state=42)\n",
    "\n",
    "y_val = y_val.reset_index(drop=True)\n",
    "y_train = y_train.reset_index(drop=True)\n",
    "y_test = y_test.reset_index(drop=True)"
   ]
  },
  {
   "cell_type": "code",
   "execution_count": 4,
   "metadata": {
    "colab": {
     "base_uri": "https://localhost:8080/"
    },
    "id": "Hn_kc7NAe5WG",
    "outputId": "988c188d-e598-474a-836d-25053062f7a6"
   },
   "outputs": [
    {
     "name": "stdout",
     "output_type": "stream",
     "text": [
      "Training data size: 8676\n",
      "Validation data size: 2170\n",
      "Test data size: 1206\n"
     ]
    }
   ],
   "source": [
    "print('Training data size:', X_train_raw.shape[0])\n",
    "print('Validation data size:', X_val_raw.shape[0])\n",
    "print('Test data size:', X_test_raw.shape[0])"
   ]
  },
  {
   "cell_type": "markdown",
   "metadata": {
    "id": "DAiSD8tFgZAA"
   },
   "source": [
    "Use TfidVectorizer because we want the words that distinguish between the documents.\n",
    "\n",
    "\n",
    "\n"
   ]
  },
  {
   "cell_type": "code",
   "execution_count": 5,
   "metadata": {
    "id": "xTXoGHk7gbNd"
   },
   "outputs": [],
   "source": [
    "# min_df = When building the vocabulary ignore terms that have a document frequency \n",
    "# strictly lower than the given threshold.\n",
    "# The parameter represents a proportion of documents, integer absolute counts. \n",
    "vectorizer = TfidfVectorizer(stop_words = 'english', min_df = 0.05, max_df=.8) \n",
    "train_sentences = np.array(X_train_raw[:,31].T)[0].astype('U')\n",
    "train_vect = vectorizer.fit_transform(train_sentences)\n",
    "\n",
    "val_sentences = np.array(X_val_raw[:,31].T)[0].astype('U')\n",
    "test_sentences = np.array(X_test_raw[:,31].T)[0].astype('U')\n",
    "# not fitting because the words needs to be from the training dataset\n",
    "val_vect = vectorizer.transform(val_sentences)\n",
    "test_vect = vectorizer.transform(test_sentences)"
   ]
  },
  {
   "cell_type": "code",
   "execution_count": 6,
   "metadata": {
    "colab": {
     "base_uri": "https://localhost:8080/"
    },
    "id": "gKlIkPUdf9S3",
    "outputId": "855d6ae6-cca1-483c-ad81-ddd57df871e8"
   },
   "outputs": [
    {
     "name": "stdout",
     "output_type": "stream",
     "text": [
      "Number of features/words from TfidVectorizer: 866\n"
     ]
    }
   ],
   "source": [
    "print('Number of features/words from TfidVectorizer:', train_vect.shape[1])"
   ]
  },
  {
   "cell_type": "code",
   "execution_count": 7,
   "metadata": {
    "colab": {
     "base_uri": "https://localhost:8080/"
    },
    "id": "YcNSJMdHwz4o",
    "outputId": "111f4498-d2ab-480c-c968-bd9792f2c6cc"
   },
   "outputs": [
    {
     "data": {
      "text/plain": [
       "array(['healthcare', 'professional', 'excellent', 'provider',\n",
       "       'organization', 'skill', 'leading', 'com', 'solution', 'including',\n",
       "       'technology', 'looking', 'job', 'location', 'industry', 'client',\n",
       "       'description', 'software', 'foundation', 'powered', 'engagement',\n",
       "       'answer', 'website', 'player', 'associated', 'regulatory',\n",
       "       'extensive', 'interested', 'company', 'demonstrate'], dtype='<U15')"
      ]
     },
     "execution_count": 7,
     "metadata": {},
     "output_type": "execute_result"
    }
   ],
   "source": [
    "# top tfid features\n",
    "feature_array = np.array(vectorizer.get_feature_names())\n",
    "tfidf_sorting = np.argsort(train_vect.toarray()).flatten()[::-1]\n",
    "\n",
    "n = 30\n",
    "top_n = feature_array[tfidf_sorting][:n]\n",
    "top_n"
   ]
  },
  {
   "cell_type": "code",
   "execution_count": 8,
   "metadata": {
    "colab": {
     "base_uri": "https://localhost:8080/"
    },
    "id": "TcKbLssjiyl2",
    "outputId": "30b0cfb9-1b30-4cc3-819c-01fe4107a2e9"
   },
   "outputs": [
    {
     "data": {
      "text/plain": [
       "array(['collaborative', 'country', 'leading', 'science', 'help', 'power',\n",
       "       'location', 'understand', 'increase', 'associated', 'store',\n",
       "       'Scaled_Size', 'classification', 'pregnancy', 'university', 'file',\n",
       "       'Sector_Accounting & Legal', 'require', 'approach', 'expected',\n",
       "       'college', 'passion', 'improvement', 'ability', 'currently',\n",
       "       'operate', 'comprehensive', 'script', 'issue', 'monitoring'],\n",
       "      dtype='<U41')"
      ]
     },
     "execution_count": 8,
     "metadata": {},
     "output_type": "execute_result"
    }
   ],
   "source": [
    "# some features in our dataset\n",
    "feature_names = vectorizer.get_feature_names() + df.drop(columns = ['Job Description Lem','Label']).columns.tolist()\n",
    "np.random.seed(4)\n",
    "np.random.choice(feature_names, 30)"
   ]
  },
  {
   "cell_type": "code",
   "execution_count": 9,
   "metadata": {
    "id": "5-KmysJjgRzj"
   },
   "outputs": [],
   "source": [
    "# grabbing the data without words so we can combine the matrices together\n",
    "train_no_words = X_train_raw[:,:31]\n",
    "val_no_words = X_val_raw[:,:31]\n",
    "test_no_words = X_test_raw[:,:31]"
   ]
  },
  {
   "cell_type": "code",
   "execution_count": 10,
   "metadata": {
    "id": "j_m-lIhnhwLS"
   },
   "outputs": [],
   "source": [
    "# combining the data to make the training, val, and test data, making them dataframes because hard to work with sparse matrix\n",
    "X_train = pd.DataFrame.sparse.from_spmatrix(sparse.hstack([train_vect, train_no_words.astype(float)]), columns = feature_names).fillna(0)\n",
    "X_val = pd.DataFrame.sparse.from_spmatrix(sparse.hstack([val_vect, val_no_words.astype(float)]),columns = feature_names).fillna(0)\n",
    "X_test = pd.DataFrame.sparse.from_spmatrix(sparse.hstack([test_vect, test_no_words.astype(float)]), columns = feature_names).fillna(0)"
   ]
  },
  {
   "cell_type": "code",
   "execution_count": 11,
   "metadata": {
    "colab": {
     "base_uri": "https://localhost:8080/"
    },
    "id": "eZKGNYU-hwwY",
    "outputId": "48bcc974-5197-40ea-f7dc-c1b451769444"
   },
   "outputs": [
    {
     "name": "stdout",
     "output_type": "stream",
     "text": [
      "Number of features/words in training data set: 897\n"
     ]
    }
   ],
   "source": [
    "print('Number of features/words in training data set:', X_train.shape[1])"
   ]
  },
  {
   "cell_type": "code",
   "execution_count": 12,
   "metadata": {
    "id": "h4cB17DjlHb3"
   },
   "outputs": [],
   "source": [
    "# names of data for model: X_train, X_val, X_test, y_train, y_val, y_test"
   ]
  },
  {
   "cell_type": "markdown",
   "metadata": {
    "id": "fm3wR5-ilf8R"
   },
   "source": [
    "## Model Building"
   ]
  },
  {
   "cell_type": "markdown",
   "metadata": {
    "id": "0ONZsulHllJV"
   },
   "source": [
    "### Supervised Learning: Decision Tree, Random Forest, and Naive Bayes"
   ]
  },
  {
   "cell_type": "markdown",
   "metadata": {
    "id": "eYWkWNaK8lry"
   },
   "source": [
    "We chose to look at these models because they have a feature importance attribute and we care about understanding the differences between data scientists, data engineers, and data analysts. \n",
    "We used Decision Trees and Random Forest first because of their interpretability. We were able to see how the model decided on each split and what features it chose."
   ]
  },
  {
   "cell_type": "markdown",
   "metadata": {
    "id": "ruhkC3mqLceT"
   },
   "source": [
    "Decision Tree Classifier"
   ]
  },
  {
   "cell_type": "code",
   "execution_count": 13,
   "metadata": {
    "id": "D-x9qSUelPt-"
   },
   "outputs": [],
   "source": [
    "decision_tree = DecisionTreeClassifier(class_weight = 'balanced',random_state=42, max_depth=3)\n",
    "model_dt = decision_tree.fit(X_train,y_train)"
   ]
  },
  {
   "cell_type": "code",
   "execution_count": 14,
   "metadata": {
    "colab": {
     "base_uri": "https://localhost:8080/"
    },
    "id": "WTzlkLMAgwts",
    "outputId": "f90b05af-c27e-417b-9195-8b1495590e7c"
   },
   "outputs": [
    {
     "data": {
      "text/plain": [
       "0.6705069124423964"
      ]
     },
     "execution_count": 14,
     "metadata": {},
     "output_type": "execute_result"
    }
   ],
   "source": [
    "# mean accuracy\n",
    "decision_tree.score(X_val,y_val)"
   ]
  },
  {
   "cell_type": "code",
   "execution_count": 20,
   "metadata": {
    "colab": {
     "base_uri": "https://localhost:8080/"
    },
    "id": "UKHlF7GT7bAa",
    "outputId": "5f66ab2f-1caf-456b-b224-64f912d4ed7e"
   },
   "outputs": [
    {
     "name": "stdout",
     "output_type": "stream",
     "text": [
      "|--- engineer <= 0.02\n",
      "|   |--- Salary Estimate Beginning Range <= 0.30\n",
      "|   |   |--- scientist <= 0.01\n",
      "|   |   |   |--- class: Data Analyst\n",
      "|   |   |--- scientist >  0.01\n",
      "|   |   |   |--- class: Data Scientist\n",
      "|   |--- Salary Estimate Beginning Range >  0.30\n",
      "|   |   |--- pipeline <= 0.06\n",
      "|   |   |   |--- class: Data Scientist\n",
      "|   |   |--- pipeline >  0.06\n",
      "|   |   |   |--- class: Data Engineer\n",
      "|--- engineer >  0.02\n",
      "|   |--- statistic <= 0.03\n",
      "|   |   |--- machine <= 0.11\n",
      "|   |   |   |--- class: Data Engineer\n",
      "|   |   |--- machine >  0.11\n",
      "|   |   |   |--- class: Data Scientist\n",
      "|   |--- statistic >  0.03\n",
      "|   |   |--- Salary Estimate Beginning Range <= 0.43\n",
      "|   |   |   |--- class: Data Scientist\n",
      "|   |   |--- Salary Estimate Beginning Range >  0.43\n",
      "|   |   |   |--- class: Data Scientist\n",
      "\n"
     ]
    }
   ],
   "source": [
    "text_representation = tree.export_text(decision_tree, feature_names = list(X_train.columns))\n",
    "print(text_representation)"
   ]
  },
  {
   "cell_type": "code",
   "execution_count": 21,
   "metadata": {
    "colab": {
     "base_uri": "https://localhost:8080/",
     "height": 476
    },
    "id": "RZEHVj6j0Re8",
    "outputId": "bbd48c34-fd3b-499d-d0b9-5fd1473536e3"
   },
   "outputs": [
    {
     "data": {
      "image/png": "[encoded data removed]",
      "text/plain": [
       "<Figure size 1800x720 with 1 Axes>"
      ]
     },
     "metadata": {
      "needs_background": "light"
     },
     "output_type": "display_data"
    }
   ],
   "source": [
    "fig = plt.figure(figsize=(25,10))\n",
    "_ = tree.plot_tree(decision_tree, feature_names=X_train.columns,  class_names=['Data Analyst', 'Data Engineer', 'Data Scientist'],filled=True)"
   ]
  },
  {
   "cell_type": "code",
   "execution_count": 22,
   "metadata": {
    "colab": {
     "base_uri": "https://localhost:8080/"
    },
    "id": "zaFJA5EEu80k",
    "outputId": "06a97035-d6ed-4c64-c0ba-f918cd98e12c"
   },
   "outputs": [
    {
     "data": {
      "text/plain": [
       "Index(['engineer', 'Salary Estimate Beginning Range', 'scientist', 'pipeline',\n",
       "       'statistic', 'machine', 'external', 'extensive', 'expression',\n",
       "       'exposure', 'expertise', 'expert', 'experiment', 'experienced',\n",
       "       'expected', 'expectation', 'Sector_Travel & Tourism', 'facilitate',\n",
       "       'existing', 'executive'],\n",
       "      dtype='object')"
      ]
     },
     "execution_count": 22,
     "metadata": {},
     "output_type": "execute_result"
    }
   ],
   "source": [
    "# top 20 features of the decision tree\n",
    "X_train.columns[list(np.argsort(decision_tree.feature_importances_)[-20:][::-1])]"
   ]
  },
  {
   "cell_type": "markdown",
   "metadata": {
    "id": "oJLC9DaJhHUT"
   },
   "source": [
    "Random Forest"
   ]
  },
  {
   "cell_type": "code",
   "execution_count": null,
   "metadata": {
    "id": "T6zr5MHyFMUv"
   },
   "outputs": [],
   "source": [
    "depth = list(range(2,13))\n",
    "estimators = list(range(100,600,100))\n",
    "accuracy_depth = []\n",
    "for i in depth:\n",
    "    accuracy = []\n",
    "    for n in estimators:\n",
    "        random_forest = RandomForestClassifier(max_depth = i, random_state = 15, n_estimators= n)\n",
    "        random_forest.fit(X_train,y_train)\n",
    "        accuracy.append(random_forest.score(X_val,y_val))\n",
    "    accuracy_depth.append(accuracy)\n"
   ]
  },
  {
   "cell_type": "code",
   "execution_count": null,
   "metadata": {
    "colab": {
     "base_uri": "https://localhost:8080/"
    },
    "id": "hK37ZNSTQZof",
    "outputId": "0635ca08-1422-4216-ca91-36a081b88d64"
   },
   "outputs": [],
   "source": [
    "max_accuracy = []\n",
    "for i in range(len(depth)):\n",
    "    max_accuracy.append(max(accuracy_depth[i]))\n",
    "depth_index = np.argmax(max_accuracy)\n",
    "depth_max = depth[depth_index]\n",
    "print(\"depth corresponding to max accuracy: \", np.argmax(max_accuracy) + 2)\n",
    "print('estimator corresponding to max estimator:',  estimators[np.argmax(accuracy_depth[depth_index])])\n",
    "  "
   ]
  },
  {
   "cell_type": "code",
   "execution_count": null,
   "metadata": {
    "colab": {
     "base_uri": "https://localhost:8080/",
     "height": 295
    },
    "id": "5sOBkP-9Pmm4",
    "outputId": "0711e99f-75ee-4d68-dcdd-15378280ec5e"
   },
   "outputs": [],
   "source": [
    "plt.plot(estimators,accuracy_depth[depth_index])\n",
    "plt.xlabel('Number of Estimators')\n",
    "plt.ylabel('Random Forest Accuracy')\n",
    "plt.title('Random Forest accuracy vs Number of Estimators')\n",
    "plt.show()"
   ]
  },
  {
   "cell_type": "code",
   "execution_count": null,
   "metadata": {
    "colab": {
     "base_uri": "https://localhost:8080/",
     "height": 295
    },
    "id": "mN527LYAh2ob",
    "outputId": "3ed40f0c-6322-4f4b-ad45-7638c8b901a6"
   },
   "outputs": [],
   "source": [
    "plt.plot(depth,max_accuracy)\n",
    "plt.xlabel('Max Depth')\n",
    "plt.ylabel('Random Forest Accuracy')\n",
    "plt.title('Random Forest Accuracy vs Max Depth')\n",
    "plt.show()"
   ]
  },
  {
   "cell_type": "code",
   "execution_count": null,
   "metadata": {
    "colab": {
     "base_uri": "https://localhost:8080/"
    },
    "id": "sn7pelo2RsfD",
    "outputId": "0f9a31f8-f4e9-45cc-b60a-d730044e16fc"
   },
   "outputs": [],
   "source": [
    "random_forest = RandomForestClassifier(max_depth = depth_max, random_state = 18, n_estimators= estimators[np.argmax(accuracy_depth[depth_index])])\n",
    "random_forest.fit(X_train,y_train)\n",
    "random_forest.score(X_test,y_test)"
   ]
  },
  {
   "cell_type": "code",
   "execution_count": null,
   "metadata": {
    "colab": {
     "base_uri": "https://localhost:8080/"
    },
    "id": "8uUIc7w7Lx04",
    "outputId": "7c20ecbe-5b86-42ac-c258-603714eff72f"
   },
   "outputs": [],
   "source": [
    "# class: 0 = Data Analyst\n",
    "# class: 1 = Data Engineer\n",
    "# class: 2 = Data Scientist\n",
    "# one decision tree represented\n",
    "text_representation = tree.export_text(random_forest.estimators_[3], feature_names =list(X_train.columns))\n",
    "print(text_representation)"
   ]
  },
  {
   "cell_type": "code",
   "execution_count": null,
   "metadata": {
    "colab": {
     "base_uri": "https://localhost:8080/"
    },
    "id": "0uv_pTQV0bXp",
    "outputId": "e85906c2-3e8f-43b0-b2f8-9e2b92ebb288"
   },
   "outputs": [],
   "source": [
    "# top 20 features of the random forest\n",
    "X_train.columns[list(np.argsort(random_forest.feature_importances_)[-20:][::-1])]"
   ]
  },
  {
   "cell_type": "markdown",
   "metadata": {
    "id": "gPHfQlPks5jR"
   },
   "source": [
    "Multinomial Naive Bayes"
   ]
  },
  {
   "cell_type": "code",
   "execution_count": null,
   "metadata": {
    "id": "XBAmC5D020tZ"
   },
   "outputs": [],
   "source": [
    "words_val = X_val[X_val.columns[:train_vect.shape[1]]]\n",
    "words_train = X_train[X_train.columns[:train_vect.shape[1]]]\n",
    "words_test = X_test[X_test.columns[:train_vect.shape[1]]]"
   ]
  },
  {
   "cell_type": "code",
   "execution_count": null,
   "metadata": {
    "id": "EXdIWbV3oRAL"
   },
   "outputs": [],
   "source": [
    "# hypertune alpha parameter\n",
    "alphas = [2,1.7,1.5,1.3,1, 0.7, 0.5,0.3, 0.1, 0.05, 0.01, 0.001,0]\n",
    "scores = []\n",
    "for alpha_i in alphas:\n",
    "    nb = MultinomialNB(alpha= alpha_i)\n",
    "    nb.fit(words_train, y_train)\n",
    "    scores.append(nb.score(words_val,y_val))"
   ]
  },
  {
   "cell_type": "code",
   "execution_count": null,
   "metadata": {
    "colab": {
     "base_uri": "https://localhost:8080/"
    },
    "id": "CPohC8R5xXzt",
    "outputId": "5fd86a7b-4aec-4228-e4ba-bd24cb085fef"
   },
   "outputs": [],
   "source": [
    "# alpha with the largest validation score\n",
    "alphas[np.argmax(scores)]"
   ]
  },
  {
   "cell_type": "code",
   "execution_count": null,
   "metadata": {
    "colab": {
     "base_uri": "https://localhost:8080/"
    },
    "id": "wM29Pn9LyqnM",
    "outputId": "97d4bd51-6563-4437-ae79-11e4d2fe00ff"
   },
   "outputs": [],
   "source": [
    "nb = MultinomialNB(alpha= alphas[np.argmax(scores)])\n",
    "nb.fit(words_train, y_train)"
   ]
  },
  {
   "cell_type": "code",
   "execution_count": null,
   "metadata": {
    "colab": {
     "base_uri": "https://localhost:8080/"
    },
    "id": "ugVI8Nh-WKt9",
    "outputId": "4d148dc5-e087-47a1-bb26-98af26efdc6d"
   },
   "outputs": [],
   "source": [
    "# mean accuracy for testing data\n",
    "nb.score(words_test,y_test)"
   ]
  },
  {
   "cell_type": "code",
   "execution_count": null,
   "metadata": {
    "colab": {
     "base_uri": "https://localhost:8080/"
    },
    "id": "9dB-Ps-XjIax",
    "outputId": "33e3c863-257a-4755-e85a-3a8bc70e0e44"
   },
   "outputs": [],
   "source": [
    "# class count of Data Analyst, Data Engineer, Data Scientist\n",
    "nb.class_count_"
   ]
  },
  {
   "cell_type": "code",
   "execution_count": null,
   "metadata": {
    "colab": {
     "base_uri": "https://localhost:8080/"
    },
    "id": "xb9xUBCQj2Pz",
    "outputId": "36fe7ab2-6ce9-4ee4-9c29-87d85b37cf35"
   },
   "outputs": [],
   "source": [
    "# top 20 features for Data Analyst\n",
    "words_train.columns[list(np.argsort(nb.feature_log_prob_[0])[-20:][::-1])]"
   ]
  },
  {
   "cell_type": "code",
   "execution_count": null,
   "metadata": {
    "colab": {
     "base_uri": "https://localhost:8080/"
    },
    "id": "AYs7BbAsWuza",
    "outputId": "38973b3b-f25a-43d6-999e-ca970ed17f08"
   },
   "outputs": [],
   "source": [
    "# top 20 features for Data Engineer\n",
    "words_train.columns[list(np.argsort(nb.feature_log_prob_[1])[-20:][::-1])]"
   ]
  },
  {
   "cell_type": "code",
   "execution_count": null,
   "metadata": {
    "colab": {
     "base_uri": "https://localhost:8080/"
    },
    "id": "v7WdTzzFkxl-",
    "outputId": "77837afc-5d46-4a82-8196-ebdd17674d88"
   },
   "outputs": [],
   "source": [
    "# top 20 features for Data Scientist\n",
    "words_train.columns[list(np.argsort(nb.feature_log_prob_[2])[-20:][::-1])]"
   ]
  },
  {
   "cell_type": "markdown",
   "metadata": {
    "id": "MeC6Yls9Mrrx"
   },
   "source": [
    "### Unsupervised Learning: Topic Modeling and K-Means Clustering\n",
    "\n",
    "These models allowed us to look into the clusters created and to identify the key features used by the model to define each one. We were able to observe whether the clusters created by the model differentiated between the types of jobs and if so, what features belonged to each one. There was also the opportunity to consider whether there are other ways of splitting data-related jobs that may be more insightful than the labels we currently give them."
   ]
  },
  {
   "cell_type": "markdown",
   "metadata": {
    "id": "xOQEQjkGM8HZ"
   },
   "source": [
    "Topic Modeling"
   ]
  },
  {
   "cell_type": "code",
   "execution_count": null,
   "metadata": {
    "id": "-RjytFZLM9Oy"
   },
   "outputs": [],
   "source": [
    "# train TfidfVectorizer to get matrix of word unigram and bigram frequencies\n",
    "# exclude stop words, and tokens that appear in < 5% of the documents or > 80% of the documents\n",
    "tfidf_vectorizer = TfidfVectorizer(stop_words = 'english', min_df = 0.05, max_df = 0.8, ngram_range=(1,2))\n",
    "train_tfidf_vect = tfidf_vectorizer.fit_transform(train_sentences)\n",
    "print(\"Vocabulary size:\", len(tfidf_vectorizer.vocabulary_))\n",
    "\n",
    "# use TF-IDF frequencies to create corpus and dictionary for the LDA model\n",
    "corpus = gensim.matutils.Sparse2Corpus(train_tfidf_vect, documents_columns=False)\n",
    "dictionary = gensim.corpora.Dictionary.from_corpus(corpus, dict((v, k) for k, v in tfidf_vectorizer.vocabulary_.items()))"
   ]
  },
  {
   "cell_type": "code",
   "execution_count": null,
   "metadata": {
    "id": "KXFJapbjNC9-"
   },
   "outputs": [],
   "source": [
    "# train several LDA models with varying number of topics\n",
    "topic_number = range(2, 16)\n",
    "models = []\n",
    "for n in topic_number:\n",
    "    lda_model = gensim.models.LdaModel(corpus, num_topics=n, passes=5, id2word=dictionary, random_state=13)\n",
    "    models.append(lda_model)"
   ]
  },
  {
   "cell_type": "code",
   "execution_count": null,
   "metadata": {
    "id": "lQCTeayVNLA_"
   },
   "outputs": [],
   "source": [
    "# compare the coherence of each model to select optimum number of topics\n",
    "# coherence: measure of the relative distance between words in a topic\n",
    "coherences = []\n",
    "for model in models:\n",
    "    coherence_model = gensim.models.CoherenceModel(model=model, texts=tfidf_vectorizer.inverse_transform(train_tfidf_vect), \n",
    "                                     dictionary=dictionary, coherence='c_v')\n",
    "    coherence = coherence_model.get_coherence()\n",
    "    coherences.append(coherence)\n",
    "\n",
    "# plot the topic number vs. model coherence\n",
    "plt.plot(topic_number, coherences)\n",
    "plt.xlabel(\"Number of Topics\")\n",
    "plt.ylabel(\"LDA Model Coherence\")\n",
    "plt.title(\"Topic Number vs. Coherence\");"
   ]
  },
  {
   "cell_type": "code",
   "execution_count": null,
   "metadata": {
    "colab": {
     "base_uri": "https://localhost:8080/"
    },
    "id": "l129xQkmNL-B",
    "outputId": "46c56d54-04b1-4e32-bb10-9d662e250584"
   },
   "outputs": [],
   "source": [
    "# the model with 2 topics has the highest coherence...\n",
    "model_two_topics = models[0]\n",
    "\n",
    "# ...but is not very useful in practice\n",
    "pyLDAvis.enable_notebook()\n",
    "model_two_vis = pyLDAvis.gensim.prepare(model_two_topics, corpus, dictionary)\n",
    "model_two_vis"
   ]
  },
  {
   "cell_type": "code",
   "execution_count": null,
   "metadata": {
    "colab": {
     "base_uri": "https://localhost:8080/"
    },
    "id": "D-KXnryENOuH",
    "outputId": "1210f002-abc3-49b1-8dfd-3799155174d4"
   },
   "outputs": [],
   "source": [
    "# looking at the next most coherent model with 5 topics\n",
    "# these topics seem more intuitive\n",
    "model_five_topics = models[3]\n",
    "model_five_vis = pyLDAvis.gensim.prepare(model_five_topics, corpus, dictionary)\n",
    "model_five_vis"
   ]
  },
  {
   "cell_type": "code",
   "execution_count": null,
   "metadata": {
    "colab": {
     "base_uri": "https://localhost:8080/",
     "height": 881
    },
    "id": "13dsggwLNTyE",
    "outputId": "66382047-e5ac-4aba-be43-d95a4ace96d4"
   },
   "outputs": [],
   "source": [
    "# looking at the document-topic distribution for each document\n",
    "doc_topic = [model_five_topics.get_document_topics(doc) for doc in corpus]\n",
    "doc_topic_df = pd.DataFrame(doc_topic)\n",
    "\n",
    "# extract topic proportions for each document\n",
    "# do the topics align with the labels for each document?\n",
    "for i in range(5):\n",
    "    doc_topic_df[i], doc_topic_df[\"topic_\" + str(i+1)] = doc_topic_df[i].str\n",
    "\n",
    "topic_names = {\"topic_1\":\"job applications\", \"topic_2\":\"business analysis\", \n",
    "               \"topic_3\": \"machine learning\", \"topic_4\":\"equal opportunity\", \n",
    "               \"topic_5\":\"data engineering\"}\n",
    "\n",
    "doc_topic_df = doc_topic_df[[\"topic_1\", \"topic_2\", \"topic_3\", \"topic_4\", \"topic_5\"]].rename(columns=topic_names)\n",
    "doc_topic_df['label'] = y_train.reset_index(drop=True)\n",
    "doc_topic_df.head()"
   ]
  },
  {
   "cell_type": "code",
   "execution_count": null,
   "metadata": {
    "id": "WPzaRgDITm8j"
   },
   "outputs": [],
   "source": [
    "# reweigh the topic proportions to remove the ones that aren't as helpful in distinguishing\n",
    "# (the job description and equal opportunity topics will likely be in all documents)\n",
    "important_topics = doc_topic_df.drop([\"job applications\", \"equal opportunity\", \"label\"], axis=1)\n",
    "reweighted_doc_topic = important_topics.div(important_topics.sum(axis=1), axis=0)\n",
    "reweighted_doc_topic['label'] = y_train.reset_index(drop=True)\n",
    "reweighted_doc_topic.groupby(\"label\").mean()"
   ]
  },
  {
   "cell_type": "code",
   "execution_count": null,
   "metadata": {
    "id": "Gqnwk7ME9GV-"
   },
   "outputs": [],
   "source": [
    "# plotting topic distribution by class\n",
    "fig = plt.figure(figsize=(16, 6))\n",
    "\n",
    "business_analysis = fig.add_subplot(131)\n",
    "sns.kdeplot(x=\"business analysis\", data=doc_topic_df, hue=\"label\", ax=business_analysis)\n",
    "plt.title(\"Dist. of Business Analysis Topic by Class\")\n",
    "plt.ylim(0, 3.75)\n",
    "plt.xlim(-0.2, 1.2);\n",
    "\n",
    "machine_learning = fig.add_subplot(132)\n",
    "sns.kdeplot(x=\"machine learning\", data=doc_topic_df, hue=\"label\", ax=machine_learning)\n",
    "plt.title(\"Dist. of Machine Learning Topic by Class\")\n",
    "plt.ylim(0, 3.75)\n",
    "plt.xlim(-0.2, 1.2);\n",
    "\n",
    "data_engineering = fig.add_subplot(133)\n",
    "sns.kdeplot(x=\"data engineering\", data=doc_topic_df, hue=\"label\", ax=data_engineering)\n",
    "plt.title(\"Dist. of Data Engineering Topic by Class\")\n",
    "plt.ylim(0, 3.75)\n",
    "plt.xlim(-0.2, 1.2);"
   ]
  },
  {
   "cell_type": "markdown",
   "metadata": {
    "id": "T1mfFXBsqfYW"
   },
   "source": [
    "K-Means Clustering"
   ]
  },
  {
   "cell_type": "code",
   "execution_count": null,
   "metadata": {
    "colab": {
     "base_uri": "https://localhost:8080/",
     "height": 295
    },
    "id": "6jSKZWRmCneV",
    "outputId": "65e56e1e-8916-4227-bf11-b604b7d1b950"
   },
   "outputs": [],
   "source": [
    "# finding the ideal number of clusters using the \"elbow method\"\n",
    "score = []\n",
    "for i in range(1,20):\n",
    "    km = KMeans(n_clusters=i, random_state=18)\n",
    "    km.fit(words_train)\n",
    "    score.append(km.score(words_val))\n",
    "plt.plot(range(1,20), score)\n",
    "plt.xlabel('Number of Clusters')\n",
    "plt.ylabel('KMeans Score')\n",
    "plt.title('Number of Clusters vs KMeans Score')\n",
    "plt.show()"
   ]
  },
  {
   "cell_type": "markdown",
   "metadata": {
    "id": "VutqYBRqK0OB"
   },
   "source": [
    "Unfortunately there doesn't appear to be a clear \"elbow\", so we decided to try out different numbers of clusters to see if there were any notable patterns."
   ]
  },
  {
   "cell_type": "code",
   "execution_count": null,
   "metadata": {
    "colab": {
     "base_uri": "https://localhost:8080/",
     "height": 1000
    },
    "id": "2jBA46f_DECY",
    "outputId": "25422791-d0b6-4577-8ff6-98d180404f51"
   },
   "outputs": [],
   "source": [
    "for clusters in range(3, 6):\n",
    "    km = KMeans(n_clusters=clusters, random_state=18)\n",
    "    km.fit(words_train)\n",
    "\n",
    "# configure dataframe to show number of each job in each cluster\n",
    "    km_df = y_val.to_frame()\n",
    "    km_df['cluster'] = km.predict(words_val)\n",
    "    temp = pd.DataFrame({'count' : km_df.groupby( ['Label', 'cluster'] ).size()}).reset_index()\n",
    "    configured = pd.DataFrame(columns=range(clusters))\n",
    "\n",
    "# show top 10 features per cluster\n",
    "    order_centroids = km.cluster_centers_.argsort()[:, ::-1]\n",
    "    df = pd.DataFrame(columns=range(clusters))\n",
    "\n",
    "    for i in range(clusters):\n",
    "        this_column = configured.columns[i]\n",
    "        out = [0, 0, 0]\n",
    "        fill = list(temp[temp['cluster'] == i]['count'])\n",
    "        out[:len(fill)] = fill\n",
    "        configured[this_column] = out\n",
    "        this_column = df.columns[i]\n",
    "        df[this_column] = [feature_names[ind] for ind in order_centroids[i, :20]]\n",
    "\n",
    "    configured.rename(index={0:'Data Analyst', 1: 'Data Engineer', 2: 'Data Scientist'}, inplace=True)\n",
    "    df.index.name = 'feature'\n",
    "    display(df)\n",
    "\n",
    "# create stacked bar plots\n",
    "    ttl1 = \"{} Clusters: Grouped By Role\".format(str(clusters))\n",
    "    ttl2 = \"{} Clusters: Grouped By Cluster\".format(str(clusters))\n",
    "    configured.plot.bar(stacked=True, title = ttl1, rot=0, figsize = (10,5))\n",
    "    configured.T.plot.bar(stacked=True, title = ttl2, rot=0, figsize = (10,5))"
   ]
  },
  {
   "cell_type": "code",
   "execution_count": null,
   "metadata": {
    "colab": {
     "base_uri": "https://localhost:8080/",
     "height": 1000
    },
    "id": "_A_aZVYRT7DI",
    "outputId": "9f1289f5-17f4-481d-ef1b-9293ca4d7596"
   },
   "outputs": [],
   "source": [
    "# taking a closer look at 5 clusters\n",
    "\n",
    "clusters = 5\n",
    "km = KMeans(n_clusters=clusters, random_state=18)\n",
    "km.fit(words_train)\n",
    "\n",
    "# configure dataframe to show number of each job in each cluster\n",
    "km_df = y_val.to_frame()\n",
    "km_df['cluster'] = km.predict(words_val)\n",
    "temp = pd.DataFrame({'count' : km_df.groupby( ['Label', 'cluster'] ).size()}).reset_index()\n",
    "configured = pd.DataFrame(columns=range(clusters))\n",
    "\n",
    "# show top 10 features per cluster\n",
    "order_centroids = km.cluster_centers_.argsort()[:, ::-1]\n",
    "df = pd.DataFrame(columns=range(clusters))\n",
    "\n",
    "for i in range(clusters):\n",
    "    this_column = configured.columns[i]\n",
    "    out = [0, 0, 0]\n",
    "    fill = list(temp[temp['cluster'] == i]['count'])\n",
    "    out[:len(fill)] = fill\n",
    "    configured[this_column] = out\n",
    "    this_column = df.columns[i]\n",
    "    df[this_column] = [feature_names[ind] for ind in order_centroids[i, :20]]\n",
    "\n",
    "configured.rename(index={0:'Data Analyst', 1: 'Data Engineer', 2: 'Data Scientist'}, inplace=True)\n",
    "df.index.name = 'feature'\n",
    "display(df)\n",
    "\n",
    "# create stacked bar plots\n",
    "ttl1 = \"{} Clusters: Grouped By Role\".format(str(clusters))\n",
    "ttl2 = \"{} Clusters: Grouped By Cluster\".format(str(clusters))\n",
    "configured.plot.bar(stacked=True, title = ttl1, rot=0, figsize = (10,5))\n",
    "configured.T.plot.bar(stacked=True, title = ttl2, rot=0, figsize = (10,5))"
   ]
  },
  {
   "cell_type": "markdown",
   "metadata": {},
   "source": [
    "## Conclusion"
   ]
  },
  {
   "cell_type": "code",
   "execution_count": null,
   "metadata": {},
   "outputs": [],
   "source": []
  }
 ],
 "metadata": {
  "colab": {
   "collapsed_sections": [],
   "name": "Classify_Jobs_Models.ipynb",
   "provenance": []
  },
  "kernelspec": {
   "display_name": "Python 3",
   "language": "python",
   "name": "python3"
  },
  "language_info": {
   "codemirror_mode": {
    "name": "ipython",
    "version": 3
   },
   "file_extension": ".py",
   "mimetype": "text/x-python",
   "name": "python",
   "nbconvert_exporter": "python",
   "pygments_lexer": "ipython3",
   "version": "3.7.1"
  }
 },
 "nbformat": 4,
 "nbformat_minor": 1
}
